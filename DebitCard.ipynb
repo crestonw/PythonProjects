{
 "cells": [
  {
   "cell_type": "markdown",
   "metadata": {},
   "source": [
    "# Final Exam Code "
   ]
  },
  {
   "cell_type": "markdown",
   "metadata": {},
   "source": [
    "### Spring 2017 "
   ]
  },
  {
   "cell_type": "markdown",
   "metadata": {},
   "source": [
    "### Base Class "
   ]
  },
  {
   "cell_type": "code",
   "execution_count": null,
   "metadata": {
    "collapsed": true
   },
   "outputs": [],
   "source": [
    "from copy import deepcopy\n",
    "\n",
    "class DebitCard:\n",
    "    \"\"\"\n",
    "    A DebitCard has an initial balance, a method to make a purchase using the card,\n",
    "    and methods to return the current balance and the transaction history.\n",
    "    \"\"\"\n",
    "    \n",
    "    csym = '$'                     # the currency symbol used when displaying cards\n",
    "    \n",
    "    def __init__(self, amount):\n",
    "        \"\"\"\n",
    "        Initialize a new card with a specified amount.\n",
    "        \"\"\"\n",
    "        self._balance = amount\n",
    "        self._history = []\n",
    "    \n",
    "    def purchase(self, item, store, amount):\n",
    "        \"\"\"\n",
    "        Use the card to make a purchase. Pass strings describing the item purchased\n",
    "        and the vendor, and a float representing the purchase price.  Raise an error if\n",
    "        the card balance is not large enough for the transaction.\n",
    "        \"\"\"\n",
    "        if self._balance < amount:\n",
    "            raise Exception(\"insufficient funds\")\n",
    "        self._balance -= amount\n",
    "        self._history.append((item,store,amount))\n",
    "        \n",
    "    def balance(self):\n",
    "        \"\"\"\n",
    "        Return the current balance\n",
    "        \"\"\"\n",
    "        return self._balance\n",
    "    \n",
    "    def history(self):\n",
    "        \"\"\"\n",
    "        Return a copy of the transaction history\n",
    "        \"\"\"\n",
    "        return deepcopy(self._history)\n",
    "    \n",
    "    def last_transaction(self):\n",
    "        \"\"\"\n",
    "        Return the most recent transaction\n",
    "        \"\"\"\n",
    "        return self._history[-1]\n",
    "    \n",
    "    def __repr__(self):\n",
    "        return \"{}{:.2f}\".format(DebitCard.csym, self._balance)"
   ]
  },
  {
   "cell_type": "code",
   "execution_count": null,
   "metadata": {
    "collapsed": true
   },
   "outputs": [],
   "source": [
    "c = DebitCard(100)"
   ]
  },
  {
   "cell_type": "code",
   "execution_count": null,
   "metadata": {
    "collapsed": true
   },
   "outputs": [],
   "source": [
    "print(c)"
   ]
  },
  {
   "cell_type": "code",
   "execution_count": null,
   "metadata": {
    "collapsed": true
   },
   "outputs": [],
   "source": [
    "c.balance()"
   ]
  },
  {
   "cell_type": "code",
   "execution_count": null,
   "metadata": {
    "collapsed": true
   },
   "outputs": [],
   "source": [
    "c.history()"
   ]
  },
  {
   "cell_type": "code",
   "execution_count": null,
   "metadata": {
    "collapsed": true
   },
   "outputs": [],
   "source": [
    "c.purchase('hat', 'Duck Store', 15.95)"
   ]
  },
  {
   "cell_type": "code",
   "execution_count": null,
   "metadata": {
    "collapsed": true
   },
   "outputs": [],
   "source": [
    "c.purchase('latte', 'Cafe Siena', 2.45)"
   ]
  },
  {
   "cell_type": "code",
   "execution_count": null,
   "metadata": {
    "collapsed": true
   },
   "outputs": [],
   "source": [
    "c.balance()"
   ]
  },
  {
   "cell_type": "code",
   "execution_count": null,
   "metadata": {
    "collapsed": true
   },
   "outputs": [],
   "source": [
    "c"
   ]
  },
  {
   "cell_type": "code",
   "execution_count": null,
   "metadata": {
    "collapsed": true
   },
   "outputs": [],
   "source": [
    "c.history()"
   ]
  },
  {
   "cell_type": "code",
   "execution_count": null,
   "metadata": {
    "collapsed": true
   },
   "outputs": [],
   "source": [
    "c.last_transaction()"
   ]
  },
  {
   "cell_type": "markdown",
   "metadata": {},
   "source": [
    "### Derived Class "
   ]
  },
  {
   "cell_type": "code",
   "execution_count": null,
   "metadata": {
    "collapsed": true
   },
   "outputs": [],
   "source": [
    "class GiftCard(DebitCard):\n",
    "    \"A GiftCard is a DebitCard that can be used at only one store\"\n",
    "    \n",
    "    def __init__(self, store, amount):\n",
    "        \"\"\"\n",
    "        Initialize a new card for the specified store\n",
    "        \"\"\"\n",
    "        DebitCard.__init__(self, amount)\n",
    "        self._store = store\n",
    "        \n",
    "    def purchase(self, item, store, amount):\n",
    "        \"\"\"\n",
    "        Verify the store name before making a purchase\n",
    "        \"\"\"\n",
    "        if store != self._store:\n",
    "            raise Exception('this card can only be used at {}'.format(self._store))\n",
    "        DebitCard.purchase(self, item, store, amount)\n"
   ]
  },
  {
   "cell_type": "code",
   "execution_count": null,
   "metadata": {
    "collapsed": true
   },
   "outputs": [],
   "source": [
    "g = GiftCard('Duck Store', 100)"
   ]
  },
  {
   "cell_type": "code",
   "execution_count": null,
   "metadata": {
    "collapsed": true
   },
   "outputs": [],
   "source": [
    "g"
   ]
  },
  {
   "cell_type": "code",
   "execution_count": null,
   "metadata": {
    "collapsed": true
   },
   "outputs": [],
   "source": [
    "g.history()"
   ]
  },
  {
   "cell_type": "code",
   "execution_count": null,
   "metadata": {
    "collapsed": true
   },
   "outputs": [],
   "source": [
    "g.purchase('Programming Python', 'Duck Store', 49.99)"
   ]
  },
  {
   "cell_type": "code",
   "execution_count": null,
   "metadata": {
    "collapsed": true
   },
   "outputs": [],
   "source": [
    "g.history()"
   ]
  },
  {
   "cell_type": "code",
   "execution_count": null,
   "metadata": {
    "collapsed": true,
    "inputHidden": false,
    "outputHidden": false
   },
   "outputs": [],
   "source": [
    "g.purchase('pepperoni pizza', 'Track Town', 15.00)"
   ]
  },
  {
   "cell_type": "code",
   "execution_count": null,
   "metadata": {
    "collapsed": true,
    "inputHidden": false,
    "outputHidden": false
   },
   "outputs": [],
   "source": [
    "g.balance()"
   ]
  },
  {
   "cell_type": "code",
   "execution_count": null,
   "metadata": {
    "collapsed": true,
    "inputHidden": false,
    "outputHidden": false
   },
   "outputs": [],
   "source": [
    "g.history()"
   ]
  },
  {
   "cell_type": "markdown",
   "metadata": {},
   "source": [
    "### GUI"
   ]
  },
  {
   "cell_type": "code",
   "execution_count": null,
   "metadata": {
    "collapsed": true
   },
   "outputs": [],
   "source": [
    "%gui tk\n",
    "\n",
    "import tkinter as tk\n",
    "\n",
    "from tkinter.messagebox import showerror"
   ]
  },
  {
   "cell_type": "code",
   "execution_count": null,
   "metadata": {
    "collapsed": true
   },
   "outputs": [],
   "source": [
    "class CardFrame(tk.Frame):\n",
    "    \n",
    "    def __init__(self, parent, card):\n",
    "        tk.Frame.__init__(self, parent)\n",
    "        \n",
    "        self._card = card\n",
    "        \n",
    "        tk.Label(self, text=\"Item\").grid(row=0, column=0, sticky=tk.W, padx=10, pady=5)\n",
    "        tk.Label(self, text=\"Store\").grid(row=1, column=0, sticky=tk.W, padx=10, pady=5)\n",
    "        tk.Label(self, text=\"Amount\").grid(row=2, column=0, sticky=tk.W, padx=10, pady=5)\n",
    "\n",
    "        self._ibox = tk.Entry(self, width=50)\n",
    "        self._ibox.grid(row=0, column=1, sticky=tk.W, padx=20)\n",
    "\n",
    "        self._sbox = tk.Entry(self, width=50)\n",
    "        self._sbox.grid(row=1, column=1, sticky=tk.W, padx=20)\n",
    "\n",
    "        self._abox = tk.Entry(self, width=10)\n",
    "        self._abox.grid(row=2, column=1, sticky=tk.W, padx=20)\n",
    "\n",
    "        self._button = tk.Button(self, text='Purchase', command=self.purchase_cb)\n",
    "        self._button.grid(row=3, column=0, columnspan=2, pady=30)\n",
    "\n",
    "        self._hbox = tk.Text(self, width=80, height=10, tabs=('2i', '6i', tk.NUMERIC))\n",
    "        self._hbox.grid(row=4, column=0, columnspan=2, pady=5, padx=10)\n",
    "                \n",
    "        for x in [self._ibox, self._sbox, self._abox]:\n",
    "            x['relief'] = tk.RIDGE\n",
    "            x['borderwidth'] = 2\n",
    "            x['background'] = 'gray95'\n",
    "            x['highlightthickness'] = 0\n",
    "            x['font'] = ('Droid Sans Mono', 12)\n",
    "            \n",
    "                \n",
    "    def purchase_cb(self):\n",
    "        try:\n",
    "            item = self._ibox.get()\n",
    "            store = self._sbox.get()\n",
    "            amount = float(self._abox.get())\n",
    "            self._card.purchase(item,store,amount)\n",
    "            self._hbox.insert(tk.END, '{}\\t{}\\t${:.02f}\\n'.format(item,store,amount))\n",
    "        except Exception as err:\n",
    "            showerror(title = 'oops', message = err)"
   ]
  },
  {
   "cell_type": "code",
   "execution_count": null,
   "metadata": {
    "collapsed": true
   },
   "outputs": [],
   "source": [
    "app = tk.Tk()\n",
    "\n",
    "card = DebitCard(100)\n",
    "\n",
    "cf = CardFrame(app, card)\n",
    "cf.pack(padx=20, pady=20)"
   ]
  }
 ],
 "metadata": {
  "kernel_info": {
   "name": "python3"
  },
  "kernelspec": {
   "display_name": "Python 3",
   "language": "python",
   "name": "python3"
  },
  "language_info": {
   "codemirror_mode": {
    "name": "ipython",
    "version": 3
   },
   "file_extension": ".py",
   "mimetype": "text/x-python",
   "name": "python",
   "nbconvert_exporter": "python",
   "pygments_lexer": "ipython3",
   "version": "3.6.0"
  }
 },
 "nbformat": 4,
 "nbformat_minor": 1
}
