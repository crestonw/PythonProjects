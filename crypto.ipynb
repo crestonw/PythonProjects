{
 "cells": [
  {
   "cell_type": "markdown",
   "metadata": {
    "deletable": true,
    "editable": true
   },
   "source": [
    "# <span style=\"color:teal;\">CIS 211 Project 2:  Cryptography</span>"
   ]
  },
  {
   "cell_type": "markdown",
   "metadata": {
    "deletable": true,
    "editable": true
   },
   "source": [
    "##### Due 11:00 P.M. April 14, 2017"
   ]
  },
  {
   "cell_type": "markdown",
   "metadata": {
    "deletable": true,
    "editable": true
   },
   "source": [
    "##### Reading:  M&R 3.1 -- 3.3, 3.5; &nbsp; 8.1 -- 8.2, 8.4.1 -- 8.4.4"
   ]
  },
  {
   "cell_type": "markdown",
   "metadata": {
    "deletable": true,
    "editable": true
   },
   "source": [
    "This week we're going to use simple encryption and decryption algorithms as a way of exploring strings and containers (lists, dictionaries, and sets) in Python.\n",
    "\n",
    "Encryption is described in Chapter 3 of the textbook.  You should understand how the **substitution cipher** works -- you don't need to understand the details of any of the Python functions that implement the method, but you should know what it means to encode a piece of text with this kind of cipher.\n",
    "\n",
    "Writing a function that decrypts a piece of text (assuming it really was encrypted with a substitution cipher) is not too hard, compared to other forms of encryption, but still more than we want to do in a one-week project.  Instead of developing a complete algorithm that will decrypt a piece of text we'll write a few small \"helper functions\" that might be useful as part of a larger application.\n"
   ]
  },
  {
   "cell_type": "markdown",
   "metadata": {
    "deletable": true,
    "editable": true
   },
   "source": [
    "###  <span style=\"color:teal\">Imports</span>"
   ]
  },
  {
   "cell_type": "code",
   "execution_count": 1,
   "metadata": {
    "collapsed": true,
    "deletable": true,
    "editable": true
   },
   "outputs": [],
   "source": [
    "from string import punctuation, ascii_uppercase, ascii_lowercase"
   ]
  },
  {
   "cell_type": "markdown",
   "metadata": {
    "deletable": true,
    "editable": true
   },
   "source": [
    "###  <span style=\"color:teal\">Test Data</span>"
   ]
  },
  {
   "cell_type": "code",
   "execution_count": 2,
   "metadata": {
    "collapsed": false,
    "deletable": true,
    "editable": true
   },
   "outputs": [
    {
     "name": "stdout",
     "output_type": "stream",
     "text": [
      "\n",
      "UEK XZIV, MOU XZIV,\n",
      "RKP XZIV, QHGK XZIV.\n",
      "\n"
     ]
    }
   ],
   "source": [
    "seuss = '\\nUEK XZIV, MOU XZIV,\\nRKP XZIV, QHGK XZIV.\\n'\n",
    "print(seuss)"
   ]
  },
  {
   "cell_type": "markdown",
   "metadata": {
    "deletable": true,
    "editable": true
   },
   "source": [
    "###  <span style=\"color:teal\">Project 1: &nbsp; Ciphertext Words (20 points)</span>"
   ]
  },
  {
   "cell_type": "markdown",
   "metadata": {
    "deletable": true,
    "editable": true
   },
   "source": [
    "Fill in the body of the function named `cipher_words`.  It will be passed a string containing a \"cryptoquote\", and it should return the set of words in the quote.  All punctuation should be stripped from the ends of words (but not in the middle).\n",
    "\n",
    "Example:\n",
    "```\n",
    ">>> cipher_words(suess)\n",
    "{'MOU', 'QHGK', 'RKP', 'UEK', 'XZIV'}\n",
    "```\n",
    "\n",
    "**Style (2 points):** This function can be written without a `for` loop, using set comprehension."
   ]
  },
  {
   "cell_type": "markdown",
   "metadata": {
    "deletable": true,
    "editable": true
   },
   "source": [
    "##### <span style=\"color:red\">Code</span>"
   ]
  },
  {
   "cell_type": "code",
   "execution_count": 3,
   "metadata": {
    "collapsed": true,
    "deletable": false,
    "editable": true,
    "nbgrader": {
     "checksum": "ca84339289c49a3aebf974b8d28ea633",
     "grade": true,
     "grade_id": "cipher_words",
     "locked": false,
     "points": 10,
     "schema_version": 1,
     "solution": true
    }
   },
   "outputs": [],
   "source": [
    "def cipher_words(text):\n",
    "    ''' (str) -> dict\n",
    "    The function takes a string as a parameter and then converts the string into a set of words without any punctuation.\n",
    "    '''\n",
    "    words = {w.strip(punctuation) for w in text.split()}\n",
    "    return words"
   ]
  },
  {
   "cell_type": "markdown",
   "metadata": {
    "deletable": true,
    "editable": true
   },
   "source": [
    "##### <span style=\"color:red\">Autograder Tests</span>"
   ]
  },
  {
   "cell_type": "code",
   "execution_count": 4,
   "metadata": {
    "collapsed": false,
    "deletable": false,
    "editable": false,
    "nbgrader": {
     "checksum": "b60c6756927b3c427ff31494d4aaeabd",
     "grade": true,
     "grade_id": "cipher_words_test",
     "locked": true,
     "points": 5,
     "schema_version": 1,
     "solution": false
    },
    "scrolled": true
   },
   "outputs": [],
   "source": [
    "# pass the example text to the function, make sure 5 words are returned\n",
    "words = cipher_words(seuss)\n",
    "assert len(words) == 5\n",
    "\n",
    "# look up each word in the result set\n",
    "for w in ['MOU', 'QHGK', 'RKP', 'UEK', 'XZIV']:\n",
    "    assert w in words"
   ]
  },
  {
   "cell_type": "markdown",
   "metadata": {
    "deletable": true,
    "editable": true
   },
   "source": [
    "##### <span style=\"color:red\">Documentation</span>"
   ]
  },
  {
   "cell_type": "markdown",
   "metadata": {
    "deletable": false,
    "editable": true,
    "nbgrader": {
     "checksum": "59d96420e8802b5885f0d2d5197eb6c0",
     "grade": true,
     "grade_id": "cipher_words_doc",
     "locked": false,
     "points": 5,
     "schema_version": 1,
     "solution": true
    }
   },
   "source": [
    "The function saves the set comprehension to words. Within the comprehension, the text argument is split on the whitespace and then each word in words is stripped of its punctuation. The set of words is then returned."
   ]
  },
  {
   "cell_type": "markdown",
   "metadata": {
    "deletable": true,
    "editable": true
   },
   "source": [
    "###  <span style=\"color:teal\">Project 2: &nbsp; Count Ciphertext Letters (20 points)</span>"
   ]
  },
  {
   "cell_type": "markdown",
   "metadata": {
    "deletable": true,
    "editable": true
   },
   "source": [
    "Fill in the body of the `count_unsolved` function.  It will be passed a single word, and it should return the number of unique ciphertext (upper case) letters in the word.\n",
    "\n",
    "Examples:\n",
    "```\n",
    ">>> count_unsolved('XZIV')\n",
    "4\n",
    "\n",
    ">>> count_unsolved('QTETET')\n",
    "3\n",
    "```\n",
    "Note how there are 6 letters in the second example, but some are repeated.  There are only 3 different letters:  Q, E, and T."
   ]
  },
  {
   "cell_type": "markdown",
   "metadata": {
    "deletable": true,
    "editable": true
   },
   "source": [
    "##### <span style=\"color:red\">Code</span>"
   ]
  },
  {
   "cell_type": "code",
   "execution_count": 5,
   "metadata": {
    "collapsed": true,
    "deletable": false,
    "editable": true,
    "nbgrader": {
     "checksum": "ef976e4b3152d525a7f3951ddab400f2",
     "grade": true,
     "grade_id": "count_unsolved",
     "locked": false,
     "points": 10,
     "schema_version": 1,
     "solution": true
    }
   },
   "outputs": [],
   "source": [
    "def count_unsolved(word):\n",
    "    '''(str) -> int\n",
    "    The function takes a string as a parameter and returns the count of upper case characters within the string as an integer.\n",
    "    '''\n",
    "    count = []\n",
    "    for ch in word:\n",
    "        if ch not in count and ch.isupper():\n",
    "            count.append(ch)\n",
    "            \n",
    "    return len(count)"
   ]
  },
  {
   "cell_type": "markdown",
   "metadata": {
    "deletable": true,
    "editable": true
   },
   "source": [
    "##### <span style=\"color:red\">Autograder Tests</span>"
   ]
  },
  {
   "cell_type": "code",
   "execution_count": 6,
   "metadata": {
    "collapsed": false,
    "deletable": false,
    "editable": false,
    "nbgrader": {
     "checksum": "361e99afccb216b7e3081b8734d0b8fa",
     "grade": true,
     "grade_id": "count_unsolved_test_1",
     "locked": true,
     "points": 1,
     "schema_version": 1,
     "solution": false
    }
   },
   "outputs": [],
   "source": [
    "# each letter in this string is unique\n",
    "assert count_unsolved('XZIV') == 4"
   ]
  },
  {
   "cell_type": "code",
   "execution_count": 7,
   "metadata": {
    "collapsed": true,
    "deletable": false,
    "editable": false,
    "nbgrader": {
     "checksum": "e8c00a4e8def006c5fd60fa400c06455",
     "grade": true,
     "grade_id": "count_unsolved_test_2",
     "locked": true,
     "points": 1,
     "schema_version": 1,
     "solution": false
    }
   },
   "outputs": [],
   "source": [
    "# there are only 3 unique letters in this string\n",
    "assert count_unsolved('QTETET') == 3"
   ]
  },
  {
   "cell_type": "code",
   "execution_count": 8,
   "metadata": {
    "collapsed": true,
    "deletable": false,
    "editable": false,
    "nbgrader": {
     "checksum": "ac7110c3510e7daaaadc9b7ce3a4d4e7",
     "grade": true,
     "grade_id": "count_unsolved_test_3",
     "locked": true,
     "points": 1,
     "schema_version": 1,
     "solution": false
    }
   },
   "outputs": [],
   "source": [
    "# repeat the previous test after \"solving\" one of the letters\n",
    "assert count_unsolved('QaEaEa') == 2"
   ]
  },
  {
   "cell_type": "code",
   "execution_count": 9,
   "metadata": {
    "collapsed": true,
    "deletable": false,
    "editable": false,
    "nbgrader": {
     "checksum": "b6732eb21ffeb84cc7f72bb36a908490",
     "grade": true,
     "grade_id": "count_unsolved_test_4",
     "locked": true,
     "points": 1,
     "schema_version": 1,
     "solution": false
    }
   },
   "outputs": [],
   "source": [
    "# a word can be completely solved (no remaining ciphertext letters)\n",
    "assert count_unsolved('banana') == 0"
   ]
  },
  {
   "cell_type": "markdown",
   "metadata": {
    "deletable": true,
    "editable": true
   },
   "source": [
    "##### <span style=\"color:red\">Documentation</span>"
   ]
  },
  {
   "cell_type": "markdown",
   "metadata": {
    "deletable": false,
    "editable": true,
    "nbgrader": {
     "checksum": "e5851db7ebe38e0a39a9a123b126176d",
     "grade": true,
     "grade_id": "count_unsolved_doc",
     "locked": false,
     "points": 6,
     "schema_version": 1,
     "solution": true
    }
   },
   "source": [
    "The count is a list of the unsolved uppercase characters within the word. A for loop cycles through the word and appends the characters that are uppercase and are not already in the list count. After the for loop is done the length of unsolved characters is returned."
   ]
  },
  {
   "cell_type": "markdown",
   "metadata": {
    "deletable": true,
    "editable": true
   },
   "source": [
    "###  <span style=\"color:teal\">Project 3: &nbsp; Fewest Unsolved Letters (15 points)</span>"
   ]
  },
  {
   "cell_type": "markdown",
   "metadata": {
    "deletable": true,
    "editable": true
   },
   "source": [
    "One strategy for choosing words to work on is to find the word that has the fewest letters remaining to be solved.  Fill in the body of the `fewest_unsolved` function so it iterates over a set of words and returns a tuple `(n,w)` where `w` is the word with the fewest remaining undecrypted letters and `n` is the number of undecrypted letters.\n",
    "\n",
    "For example, suppose the quote from earlier has been partially decrypted and the set of words is now\n",
    "```\n",
    "{'MOo', 'QHue', 'ReP', 'XiIV', 'oEe'}\n",
    "```\n",
    "Passing this set to `fewest_unsolved` should return `oEe` because it has one uppercase letter and the others all have two:\n",
    "```\n",
    "```\n",
    "\n",
    "**Note:** If there is a tie (more than one word has the same minimum number of undecrypted letters) just return one at random (_e.g._ the first one found)."
   ]
  },
  {
   "cell_type": "markdown",
   "metadata": {
    "deletable": true,
    "editable": true
   },
   "source": [
    "##### <span style=\"color:red\">Code</span>"
   ]
  },
  {
   "cell_type": "code",
   "execution_count": 10,
   "metadata": {
    "collapsed": false,
    "deletable": false,
    "editable": true,
    "nbgrader": {
     "checksum": "8f4a675e08b50052b704f12b1a95a31c",
     "grade": true,
     "grade_id": "fewest_unsolved",
     "locked": false,
     "points": 6,
     "schema_version": 1,
     "solution": true
    }
   },
   "outputs": [],
   "source": [
    "def fewest_unsolved(group):\n",
    "    '''(set) -> str\n",
    "    The function takes a set of words as an argument and returns the word within the set that has the fewest unsolved\n",
    "    characters as a string. It uses the helper function count_unsolved().\n",
    "    '''\n",
    "    count = len(max(group))\n",
    "    few = None\n",
    "    for word in group:\n",
    "        if count_unsolved(word) < count:\n",
    "            count = count_unsolved(word)\n",
    "            few = word\n",
    "            \n",
    "    return few\n"
   ]
  },
  {
   "cell_type": "markdown",
   "metadata": {
    "deletable": true,
    "editable": true
   },
   "source": [
    "##### <span style=\"color:red\">Autograder Tests</span>"
   ]
  },
  {
   "cell_type": "code",
   "execution_count": 11,
   "metadata": {
    "collapsed": false,
    "deletable": false,
    "editable": false,
    "nbgrader": {
     "checksum": "a198cbb46a3b1877c3129a6e58ed4f23",
     "grade": true,
     "grade_id": "fewest_unsolved_test1",
     "locked": true,
     "points": 2,
     "schema_version": 1,
     "solution": false
    }
   },
   "outputs": [],
   "source": [
    "# this set has a word with one ciphertext letter and three others with two ciphertext letters\n",
    "test_set = {'oEe', 'XiIV', 'MOo', 'QHue', 'ReP'}\n",
    "\n",
    "# the first call should find the word with one ciphertext letter\n",
    "w = fewest_unsolved(test_set)\n",
    "assert w == 'oEe'"
   ]
  },
  {
   "cell_type": "code",
   "execution_count": 12,
   "metadata": {
    "collapsed": false,
    "deletable": false,
    "editable": false,
    "nbgrader": {
     "checksum": "8ad938c3f356ab07b7949142dcf582a7",
     "grade": true,
     "grade_id": "fewest_unsolved_test_2",
     "locked": true,
     "points": 2,
     "schema_version": 1,
     "solution": false
    }
   },
   "outputs": [],
   "source": [
    "# remove that word from the set, the next call should find a word with two ciphertext letters\n",
    "test_set.remove(w)\n",
    "w = fewest_unsolved(test_set)\n",
    "assert count_unsolved(w) == 2"
   ]
  },
  {
   "cell_type": "markdown",
   "metadata": {
    "deletable": true,
    "editable": true
   },
   "source": [
    "##### <span style=\"color:red\">Documentation</span>"
   ]
  },
  {
   "cell_type": "markdown",
   "metadata": {
    "deletable": false,
    "editable": true,
    "nbgrader": {
     "checksum": "3235477df1c67e673aa9b7907b9b31da",
     "grade": true,
     "grade_id": "fewest_unsolved_doc",
     "locked": false,
     "points": 5,
     "schema_version": 1,
     "solution": true
    }
   },
   "source": [
    "First the count is intialized at the maximum length of the words in the group given and the string few is initialized as None. A for loop then iterates through the group of words and uses the helper function count_unsolved() to determine if the number of unsolved characters within the word is less than the count. If this is true then the word is saved as a string to few. And so on and so forth... The function then returns few as a string which is the word with the fewest unsolved characters."
   ]
  },
  {
   "cell_type": "markdown",
   "metadata": {
    "deletable": true,
    "editable": true
   },
   "source": [
    "###  <span style=\"color:teal\">Project 4: &nbsp; Letter Pairs (30 points)</span>"
   ]
  },
  {
   "cell_type": "markdown",
   "metadata": {
    "deletable": true,
    "editable": true
   },
   "source": [
    "An effective strategy for decrypting English text is to consider letters two at a time (see Section 8.4.3 of the textbook for an explanation of why this approach is helpful).\n",
    "\n",
    "For this part of the project, fill in the definition of the function named `make_letter_pairs`.  It will be passed a string, and it should return a matrix $m$, such that $m_{i,j}$ is the frequency with which letters $i$ and $j$ were next to each other in the string.\n",
    "\n",
    "One way to create a matrix in Python is to use a list of lists, but for this project we'll make a dictionary of dictionaries.  If we save the result of the function call in a variable named `m`, we can look up a frequency using indexing.  For example, we can look up the frequency of `'i'` followed by `'e'` by evaluating\n",
    "```\n",
    ">>> m['i']['e']\n",
    "```\n",
    "\n",
    "Here is an example:\n",
    "```\n",
    ">>> m = make_letter_pairs('how now, brown cow?')\n",
    ">>> m\n",
    "{'b': {'r': 0.1},\n",
    " 'c': {'o': 0.1},\n",
    " 'h': {'o': 0.1},\n",
    " 'n': {'o': 0.1},\n",
    " 'o': {'w': 0.4},\n",
    " 'r': {'o': 0.1},\n",
    " 'w': {'n': 0.1}}\n",
    "```\n",
    "\n",
    "The 10 places in this text where there are two letters next to each other are `ho`, `ow`, `no`, `ow`, `br`, `ro`, `ow`, `wn`, `co`, and `ow`.  The combination of `b` followed by `r` occurs only once, so its frequency is 1 / 10 = 0.1:\n",
    "```\n",
    ">>> m['b']['r']\n",
    "0.1\n",
    "```\n",
    "\n",
    "The pair `ow` occurs four times, so its frequency is 4 / 10 = 0.4:\n",
    "```\n",
    ">>> m['o']['w']\n",
    "0.4\n",
    "```\n",
    "\n",
    "**Note**  There is a similar function, named `neighborCount`, defined in the book. You can use this function to get some ideas for how to write your code, but there are some important differences you should be aware of:\n",
    "* the function in the book creates counts, but our function creates frequencies\n",
    "* the function in the book counts in both directions, _e.g._ when it sees the pair `ow` it adds 1 to the count of `ow` and one to the count for `wo`; we count one direction only"
   ]
  },
  {
   "cell_type": "markdown",
   "metadata": {
    "deletable": true,
    "editable": true
   },
   "source": [
    "##### <span style=\"color:red\">Code</span>"
   ]
  },
  {
   "cell_type": "code",
   "execution_count": 13,
   "metadata": {
    "collapsed": false,
    "deletable": false,
    "editable": true,
    "nbgrader": {
     "checksum": "61f40717f5e9c4954241e1f8a88f0183",
     "grade": true,
     "grade_id": "letter_pairs",
     "locked": false,
     "points": 15,
     "schema_version": 1,
     "solution": true
    }
   },
   "outputs": [],
   "source": [
    "def make_letter_pairs(text):\n",
    "    ''' (str) -> dict\n",
    "    This function takes a string of text as an argument and then strips, lowercases, and removes all the punctuation \n",
    "    from the text and then splits the text into words. The function preforms a list comprehension on the words to create\n",
    "    a list of the pairs. Then the dictionaries are formed together with the pairs and the frequencies to return a \n",
    "    dictionary of dictionaries of the pairs and their frequency in the orignal text. \n",
    "\n",
    "    '''\n",
    "    words = [ch.strip(punctuation).lower() for ch in text.split()]\n",
    "\n",
    "    lst_of_pairs = [ch[i] + ch[i+1] for ch in words for i in range(len(ch)-1) if ch.isalpha()]\n",
    "    length_of_pairs = len(lst_of_pairs)\n",
    "    freq_dict = {pair: (lst_of_pairs.count(pair) / length_of_pairs) for pair in lst_of_pairs}\n",
    "    \n",
    "    pairs = {ch[0]: {ch[-1]: freq_dict[ch]} for ch in freq_dict.keys()}\n",
    "    for ch in pairs:\n",
    "        pairs.setdefault(ch,{})    \n",
    "    return pairs"
   ]
  },
  {
   "cell_type": "markdown",
   "metadata": {
    "deletable": true,
    "editable": true
   },
   "source": [
    "##### <span style=\"color:red\">Autograder Tests</span>"
   ]
  },
  {
   "cell_type": "code",
   "execution_count": 14,
   "metadata": {
    "collapsed": false,
    "deletable": false,
    "editable": false,
    "nbgrader": {
     "checksum": "4196200898ea4db87d559c3d944d8df8",
     "grade": true,
     "grade_id": "letter_pairs_test_1",
     "locked": true,
     "points": 4,
     "schema_version": 1,
     "solution": false
    }
   },
   "outputs": [],
   "source": [
    "# the first test uses the 'brown cow' example\n",
    "m = make_letter_pairs('how now, brown cow?')\n",
    "\n",
    "# there are 7 different letters in the string\n",
    "assert len(m) == 7\n",
    "\n",
    "# check two of the frequencies\n",
    "assert round(m['o']['w'],1) == 0.4\n",
    "assert round(m['r']['o'],1) == 0.1"
   ]
  },
  {
   "cell_type": "code",
   "execution_count": 15,
   "metadata": {
    "collapsed": false,
    "deletable": false,
    "editable": false,
    "nbgrader": {
     "checksum": "d957c0a860adb6771117f55ac0cd211e",
     "grade": true,
     "grade_id": "letter_pairs_test_2",
     "locked": true,
     "points": 2,
     "schema_version": 1,
     "solution": false
    },
    "scrolled": true
   },
   "outputs": [
    {
     "ename": "KeyboardInterrupt",
     "evalue": "",
     "output_type": "error",
     "traceback": [
      "\u001b[0;31m---------------------------------------------------------------------------\u001b[0m",
      "\u001b[0;31mKeyboardInterrupt\u001b[0m                         Traceback (most recent call last)",
      "\u001b[0;32m<ipython-input-15-df279ec3c84c>\u001b[0m in \u001b[0;36m<module>\u001b[0;34m()\u001b[0m\n\u001b[1;32m      1\u001b[0m \u001b[0;31m# the remaining tests are based on frequencies using a large body of text (War of the Worlds, by H. G. Wells)\u001b[0m\u001b[0;34m\u001b[0m\u001b[0;34m\u001b[0m\u001b[0m\n\u001b[1;32m      2\u001b[0m \u001b[0;32mwith\u001b[0m \u001b[0mopen\u001b[0m\u001b[0;34m(\u001b[0m\u001b[0;34m'wells.txt'\u001b[0m\u001b[0;34m)\u001b[0m \u001b[0;32mas\u001b[0m \u001b[0mf\u001b[0m\u001b[0;34m:\u001b[0m\u001b[0;34m\u001b[0m\u001b[0m\n\u001b[0;32m----> 3\u001b[0;31m     \u001b[0mpp\u001b[0m \u001b[0;34m=\u001b[0m \u001b[0mmake_letter_pairs\u001b[0m\u001b[0;34m(\u001b[0m\u001b[0mf\u001b[0m\u001b[0;34m.\u001b[0m\u001b[0mread\u001b[0m\u001b[0;34m(\u001b[0m\u001b[0;34m)\u001b[0m\u001b[0;34m)\u001b[0m\u001b[0;34m\u001b[0m\u001b[0m\n\u001b[0m\u001b[1;32m      4\u001b[0m \u001b[0;34m\u001b[0m\u001b[0m\n\u001b[1;32m      5\u001b[0m \u001b[0;31m# look up some common letter combinations (\"pp\" stands for \"pair probability\")\u001b[0m\u001b[0;34m\u001b[0m\u001b[0;34m\u001b[0m\u001b[0m\n",
      "\u001b[0;32m<ipython-input-13-e040d921ee28>\u001b[0m in \u001b[0;36mmake_letter_pairs\u001b[0;34m(text)\u001b[0m\n\u001b[1;32m     11\u001b[0m     \u001b[0mlst_of_pairs\u001b[0m \u001b[0;34m=\u001b[0m \u001b[0;34m[\u001b[0m\u001b[0mch\u001b[0m\u001b[0;34m[\u001b[0m\u001b[0mi\u001b[0m\u001b[0;34m]\u001b[0m \u001b[0;34m+\u001b[0m \u001b[0mch\u001b[0m\u001b[0;34m[\u001b[0m\u001b[0mi\u001b[0m\u001b[0;34m+\u001b[0m\u001b[0;36m1\u001b[0m\u001b[0;34m]\u001b[0m \u001b[0;32mfor\u001b[0m \u001b[0mch\u001b[0m \u001b[0;32min\u001b[0m \u001b[0mwords\u001b[0m \u001b[0;32mfor\u001b[0m \u001b[0mi\u001b[0m \u001b[0;32min\u001b[0m \u001b[0mrange\u001b[0m\u001b[0;34m(\u001b[0m\u001b[0mlen\u001b[0m\u001b[0;34m(\u001b[0m\u001b[0mch\u001b[0m\u001b[0;34m)\u001b[0m\u001b[0;34m-\u001b[0m\u001b[0;36m1\u001b[0m\u001b[0;34m)\u001b[0m \u001b[0;32mif\u001b[0m \u001b[0mch\u001b[0m\u001b[0;34m.\u001b[0m\u001b[0misalpha\u001b[0m\u001b[0;34m(\u001b[0m\u001b[0;34m)\u001b[0m\u001b[0;34m]\u001b[0m\u001b[0;34m\u001b[0m\u001b[0m\n\u001b[1;32m     12\u001b[0m     \u001b[0mlength_of_pairs\u001b[0m \u001b[0;34m=\u001b[0m \u001b[0mlen\u001b[0m\u001b[0;34m(\u001b[0m\u001b[0mlst_of_pairs\u001b[0m\u001b[0;34m)\u001b[0m\u001b[0;34m\u001b[0m\u001b[0m\n\u001b[0;32m---> 13\u001b[0;31m     \u001b[0mfreq_dict\u001b[0m \u001b[0;34m=\u001b[0m \u001b[0;34m{\u001b[0m\u001b[0mpair\u001b[0m\u001b[0;34m:\u001b[0m \u001b[0;34m(\u001b[0m\u001b[0mlst_of_pairs\u001b[0m\u001b[0;34m.\u001b[0m\u001b[0mcount\u001b[0m\u001b[0;34m(\u001b[0m\u001b[0mpair\u001b[0m\u001b[0;34m)\u001b[0m \u001b[0;34m/\u001b[0m \u001b[0mlength_of_pairs\u001b[0m\u001b[0;34m)\u001b[0m \u001b[0;32mfor\u001b[0m \u001b[0mpair\u001b[0m \u001b[0;32min\u001b[0m \u001b[0mlst_of_pairs\u001b[0m\u001b[0;34m}\u001b[0m\u001b[0;34m\u001b[0m\u001b[0m\n\u001b[0m\u001b[1;32m     14\u001b[0m \u001b[0;34m\u001b[0m\u001b[0m\n\u001b[1;32m     15\u001b[0m     \u001b[0mpairs\u001b[0m \u001b[0;34m=\u001b[0m \u001b[0;34m{\u001b[0m\u001b[0mch\u001b[0m\u001b[0;34m[\u001b[0m\u001b[0;36m0\u001b[0m\u001b[0;34m]\u001b[0m\u001b[0;34m:\u001b[0m \u001b[0;34m{\u001b[0m\u001b[0mch\u001b[0m\u001b[0;34m[\u001b[0m\u001b[0;34m-\u001b[0m\u001b[0;36m1\u001b[0m\u001b[0;34m]\u001b[0m\u001b[0;34m:\u001b[0m \u001b[0mfreq_dict\u001b[0m\u001b[0;34m[\u001b[0m\u001b[0mch\u001b[0m\u001b[0;34m]\u001b[0m\u001b[0;34m}\u001b[0m \u001b[0;32mfor\u001b[0m \u001b[0mch\u001b[0m \u001b[0;32min\u001b[0m \u001b[0mfreq_dict\u001b[0m\u001b[0;34m.\u001b[0m\u001b[0mkeys\u001b[0m\u001b[0;34m(\u001b[0m\u001b[0;34m)\u001b[0m\u001b[0;34m}\u001b[0m\u001b[0;34m\u001b[0m\u001b[0m\n",
      "\u001b[0;32m<ipython-input-13-e040d921ee28>\u001b[0m in \u001b[0;36m<dictcomp>\u001b[0;34m(.0)\u001b[0m\n\u001b[1;32m     11\u001b[0m     \u001b[0mlst_of_pairs\u001b[0m \u001b[0;34m=\u001b[0m \u001b[0;34m[\u001b[0m\u001b[0mch\u001b[0m\u001b[0;34m[\u001b[0m\u001b[0mi\u001b[0m\u001b[0;34m]\u001b[0m \u001b[0;34m+\u001b[0m \u001b[0mch\u001b[0m\u001b[0;34m[\u001b[0m\u001b[0mi\u001b[0m\u001b[0;34m+\u001b[0m\u001b[0;36m1\u001b[0m\u001b[0;34m]\u001b[0m \u001b[0;32mfor\u001b[0m \u001b[0mch\u001b[0m \u001b[0;32min\u001b[0m \u001b[0mwords\u001b[0m \u001b[0;32mfor\u001b[0m \u001b[0mi\u001b[0m \u001b[0;32min\u001b[0m \u001b[0mrange\u001b[0m\u001b[0;34m(\u001b[0m\u001b[0mlen\u001b[0m\u001b[0;34m(\u001b[0m\u001b[0mch\u001b[0m\u001b[0;34m)\u001b[0m\u001b[0;34m-\u001b[0m\u001b[0;36m1\u001b[0m\u001b[0;34m)\u001b[0m \u001b[0;32mif\u001b[0m \u001b[0mch\u001b[0m\u001b[0;34m.\u001b[0m\u001b[0misalpha\u001b[0m\u001b[0;34m(\u001b[0m\u001b[0;34m)\u001b[0m\u001b[0;34m]\u001b[0m\u001b[0;34m\u001b[0m\u001b[0m\n\u001b[1;32m     12\u001b[0m     \u001b[0mlength_of_pairs\u001b[0m \u001b[0;34m=\u001b[0m \u001b[0mlen\u001b[0m\u001b[0;34m(\u001b[0m\u001b[0mlst_of_pairs\u001b[0m\u001b[0;34m)\u001b[0m\u001b[0;34m\u001b[0m\u001b[0m\n\u001b[0;32m---> 13\u001b[0;31m     \u001b[0mfreq_dict\u001b[0m \u001b[0;34m=\u001b[0m \u001b[0;34m{\u001b[0m\u001b[0mpair\u001b[0m\u001b[0;34m:\u001b[0m \u001b[0;34m(\u001b[0m\u001b[0mlst_of_pairs\u001b[0m\u001b[0;34m.\u001b[0m\u001b[0mcount\u001b[0m\u001b[0;34m(\u001b[0m\u001b[0mpair\u001b[0m\u001b[0;34m)\u001b[0m \u001b[0;34m/\u001b[0m \u001b[0mlength_of_pairs\u001b[0m\u001b[0;34m)\u001b[0m \u001b[0;32mfor\u001b[0m \u001b[0mpair\u001b[0m \u001b[0;32min\u001b[0m \u001b[0mlst_of_pairs\u001b[0m\u001b[0;34m}\u001b[0m\u001b[0;34m\u001b[0m\u001b[0m\n\u001b[0m\u001b[1;32m     14\u001b[0m \u001b[0;34m\u001b[0m\u001b[0m\n\u001b[1;32m     15\u001b[0m     \u001b[0mpairs\u001b[0m \u001b[0;34m=\u001b[0m \u001b[0;34m{\u001b[0m\u001b[0mch\u001b[0m\u001b[0;34m[\u001b[0m\u001b[0;36m0\u001b[0m\u001b[0;34m]\u001b[0m\u001b[0;34m:\u001b[0m \u001b[0;34m{\u001b[0m\u001b[0mch\u001b[0m\u001b[0;34m[\u001b[0m\u001b[0;34m-\u001b[0m\u001b[0;36m1\u001b[0m\u001b[0;34m]\u001b[0m\u001b[0;34m:\u001b[0m \u001b[0mfreq_dict\u001b[0m\u001b[0;34m[\u001b[0m\u001b[0mch\u001b[0m\u001b[0;34m]\u001b[0m\u001b[0;34m}\u001b[0m \u001b[0;32mfor\u001b[0m \u001b[0mch\u001b[0m \u001b[0;32min\u001b[0m \u001b[0mfreq_dict\u001b[0m\u001b[0;34m.\u001b[0m\u001b[0mkeys\u001b[0m\u001b[0;34m(\u001b[0m\u001b[0;34m)\u001b[0m\u001b[0;34m}\u001b[0m\u001b[0;34m\u001b[0m\u001b[0m\n",
      "\u001b[0;31mKeyboardInterrupt\u001b[0m: "
     ]
    }
   ],
   "source": [
    "# the remaining tests are based on frequencies using a large body of text (War of the Worlds, by H. G. Wells)\n",
    "with open('wells.txt') as f:\n",
    "    pp = make_letter_pairs(f.read())\n",
    "\n",
    "# look up some common letter combinations (\"pp\" stands for \"pair probability\")\n",
    "assert round(pp['e']['e'], 3) == 0.006\n",
    "assert round(pp['s']['s'], 3) == 0.004"
   ]
  },
  {
   "cell_type": "code",
   "execution_count": null,
   "metadata": {
    "collapsed": false,
    "deletable": false,
    "editable": false,
    "nbgrader": {
     "checksum": "b2f992746011e4fe5f49893b5f6837ca",
     "grade": true,
     "grade_id": "letter_pairs_test_3",
     "locked": true,
     "points": 2,
     "schema_version": 1,
     "solution": false
    }
   },
   "outputs": [],
   "source": [
    "# look up some rare combinations (in this book, at least)\n",
    "assert round(pp['r']['z']) < 0.000001\n",
    "assert round(pp['y']['n']) < 0.000001"
   ]
  },
  {
   "cell_type": "code",
   "execution_count": null,
   "metadata": {
    "collapsed": false,
    "deletable": false,
    "editable": false,
    "nbgrader": {
     "checksum": "cda151fe4056f01fa446c95cdfb4a19a",
     "grade": true,
     "grade_id": "letter_pairs_test_4",
     "locked": true,
     "points": 2,
     "schema_version": 1,
     "solution": false
    }
   },
   "outputs": [],
   "source": [
    "# letter combinations 'jx' and 'kk' never occur in this book\n",
    "assert 'x' not in pp['j']\n",
    "assert 'k' not in pp['k']"
   ]
  },
  {
   "cell_type": "markdown",
   "metadata": {
    "deletable": true,
    "editable": true
   },
   "source": [
    "##### <span style=\"color:red\">Documentation</span>"
   ]
  },
  {
   "cell_type": "code",
   "execution_count": null,
   "metadata": {
    "collapsed": true,
    "deletable": false,
    "editable": true,
    "nbgrader": {
     "checksum": "1166b51e3e5c6e94483e98ff50b57ede",
     "grade": true,
     "grade_id": "letter_pairs_doc",
     "locked": false,
     "points": 5,
     "schema_version": 1,
     "solution": true
    }
   },
   "outputs": [],
   "source": [
    "'''\n",
    "    This function takes a string of text as an argument and then strips, lowercases, and removes all the punctuation \n",
    "    from the text and then splits the text into words. The function preforms a list comprehension on the words to create\n",
    "    a list of the pairs. Then the dictionaries are formed together with the pairs and the frequencies to return a \n",
    "    dictionary of dictionaries of the pairs and their frequency in the orignal text. \n",
    "'''"
   ]
  },
  {
   "cell_type": "markdown",
   "metadata": {
    "deletable": true,
    "editable": true
   },
   "source": [
    "###  <span style=\"color:teal\">Project 5: `apply` (15 points)</span>"
   ]
  },
  {
   "cell_type": "markdown",
   "metadata": {
    "deletable": true,
    "editable": true
   },
   "source": [
    "The final part of the project is to write a function named `apply` that will use a decryption key (a dictionary mapping ciphertext letters to plaintext) to update a partially decrypted string.\n",
    "\n",
    "For example, this key replaces X with `'f'`, Z with `'i'`, I with `'s'`, and V with `'h'`:\n",
    "```\n",
    ">>> k = {'X':'f', 'Z':'i', 'I':'s', 'V':'h'}\n",
    "```\n",
    "\n",
    "If we apply the key to the example ciphertext this is the result:\n",
    "```\n",
    ">>> apply(k, 'UEK XZIV, MOU XZIV, RKP XZIV, QHGK XZIV.')\n",
    "'UEK fish, MOU fish, RKP fish, QHGK fish.'\n",
    "```"
   ]
  },
  {
   "cell_type": "markdown",
   "metadata": {
    "deletable": true,
    "editable": true
   },
   "source": [
    "##### <span style=\"color:red\">Code</span>"
   ]
  },
  {
   "cell_type": "code",
   "execution_count": null,
   "metadata": {
    "collapsed": true,
    "deletable": false,
    "editable": true,
    "nbgrader": {
     "checksum": "278ace3e6414081526b39ff7c000ff20",
     "grade": true,
     "grade_id": "apply",
     "locked": false,
     "points": 6,
     "schema_version": 1,
     "solution": true
    }
   },
   "outputs": [],
   "source": [
    "def apply(key, quote):\n",
    "    text = [ch.strip(punctuation) for ch in quote.split()]\n",
    "    print(text)\n",
    "    lett_dict = {ch for ch in text}\n",
    "    print(lett_dict)\n",
    "    pass\n",
    "apply(k,'UEK XZIV, MOU XZIV, RKP XZIV, QHGK XZIV.')"
   ]
  },
  {
   "cell_type": "markdown",
   "metadata": {
    "deletable": true,
    "editable": true
   },
   "source": [
    "##### <span style=\"color:red\">Autograder Tests</span>"
   ]
  },
  {
   "cell_type": "code",
   "execution_count": null,
   "metadata": {
    "collapsed": false,
    "deletable": false,
    "editable": false,
    "nbgrader": {
     "checksum": "24a384518c442136d47ea40f890da83a",
     "grade": true,
     "grade_id": "apply_test",
     "locked": true,
     "points": 4,
     "schema_version": 1,
     "solution": false
    }
   },
   "outputs": [],
   "source": [
    "# make a decryption key to use in the tests\n",
    "k = {'X':'f', 'Z':'i', 'I':'s', 'V':'h'}\n",
    "apply(k,'UEK XZIV, MOU XZIV, RKP XZIV, QHGK XZIV.')\n",
    "# apply the key \n",
    "assert apply(k,'XZIV') == 'fish'\n",
    "assert apply(k,'UDKLCXZIV') == 'UDKLCfish'\n",
    "assert apply(k,'XMIVZQP') == 'fMshiQP'\n",
    "assert apply(k,'JSBWC') == 'JSBWC'"
   ]
  },
  {
   "cell_type": "markdown",
   "metadata": {
    "deletable": true,
    "editable": true
   },
   "source": [
    "##### <span style=\"color:red\">Documentation</span>"
   ]
  },
  {
   "cell_type": "markdown",
   "metadata": {
    "collapsed": true,
    "deletable": false,
    "editable": true,
    "nbgrader": {
     "checksum": "31601803eb151bfefd4435a547f7161b",
     "grade": true,
     "grade_id": "apply_doc",
     "locked": false,
     "points": 5,
     "schema_version": 1,
     "solution": true
    }
   },
   "source": [
    "YOUR DOCUMENTATION HERE"
   ]
  }
 ],
 "metadata": {
  "anaconda-cloud": {},
  "kernelspec": {
   "display_name": "Python 3",
   "language": "python",
   "name": "python3"
  },
  "language_info": {
   "codemirror_mode": {
    "name": "ipython",
    "version": 3
   },
   "file_extension": ".py",
   "mimetype": "text/x-python",
   "name": "python",
   "nbconvert_exporter": "python",
   "pygments_lexer": "ipython3",
   "version": "3.6.0"
  },
  "toc": {
   "colors": {
    "hover_highlight": "#DAA520",
    "running_highlight": "#FF0000",
    "selected_highlight": "#FFD700"
   },
   "moveMenuLeft": true,
   "nav_menu": {
    "height": "121px",
    "width": "252px"
   },
   "navigate_menu": true,
   "number_sections": true,
   "sideBar": true,
   "threshold": "3",
   "toc_cell": false,
   "toc_section_display": "block",
   "toc_window_display": false,
   "widenNotebook": false
  }
 },
 "nbformat": 4,
 "nbformat_minor": 0
}
