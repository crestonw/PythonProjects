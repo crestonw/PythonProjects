{
 "cells": [
  {
   "cell_type": "markdown",
   "metadata": {},
   "source": [
    "# Homework 2:\n",
    "\n",
    "## Notebook by Creston Wilson 10/11/2017\n",
    "\n",
    "## Created for CIS 399, Probability and Statistics for Computer Science"
   ]
  },
  {
   "cell_type": "markdown",
   "metadata": {},
   "source": [
    "### Part A: OpenIntro Stats Ch. 1"
   ]
  },
  {
   "cell_type": "markdown",
   "metadata": {},
   "source": [
    "##### Question 1.44\n",
    "\n",
    "In a class of 25 students, 24 of them took an exam in the class and 1 student took a make-up exam the following day. The professor graded the first batch of 24 exams and found an average score of 74 points with a standard deviation of 8.9 points. The student who took the make-up the following day scored 64 points on the exam.\n",
    "\n",
    "    (a). Does the new student's score increase or decrease the average score?\n",
    "    The new student's score decreases the average score of the exam, because he scored lower on the exam relative to the average score.\n",
    "\n",
    "    (b). What is the new average?\n",
    "    The new average is 73.6 points.\n",
    "\n",
    "    (c). Does the new student's score increase or decrease the standard deviation of the scores?   \n",
    "    The new student's score decreased the standard deviation, because it was closer to the average.\n",
    "\n",
    "##### Question 1.46\n",
    "\n",
    "For each part, compare distributions (1) and (2) based on their medians and IQRs. You do not need to calculate statistics; simply state how the medians and the IQRs compare. Make sure to explain your reasoning.\n",
    "\n",
    "    (a). (1) 3, 5, 6, 7, 9\n",
    "         (2) 3, 5, 6, 7, 20\n",
    "    The median of (1) and (2) are the same, because the middle integer of the ordered lists are the same. The IQR for the (2) is greater than that of (1), this is because (2) as greater values in the 75th percentile that (1).\n",
    "\n",
    "    (b). (1) 3, 5, 6, 7, 9\n",
    "         (2) 3, 5, 7, 8, 9\n",
    "    The median of (2) is greater than (1) by 1. This is found by taking the middle integer of each ordered list and comparing. The IQR for (2) is ever so slightly greater than that of (1), because the values in the 75th quartile of (2) are a small bit greater than (1)'s 75th percentile.\n",
    "\n",
    "    (c). (1) 1, 2, 3, 4, 5\n",
    "         (2) 6, 7, 8, 9, 10\n",
    "    The median of (2) is greater than (1), because the numbers inside (2) are greater than that of (1). The IQR of both (1) and (2) are the same. This is because (1) and (2) increment by 1 for each integer in their list and they also have the same number of elements in their lists. Most importantly the distance for either first or last element in each list is exactly the same.\n",
    "\n",
    "    (d). (1) 0, 10, 50, 60, 100\n",
    "         (2) 0, 100, 500, 600, 1000\n",
    "    The median for (2) is greater than (1) because the numbers inside (2) are larger. The IQR of (2) is greater than that of (1), because the distance from (2)'s median to the 75th percentile is greater compared to the distance between (1)'s median and its 75th percentile.\n",
    "\n",
    "###### Question 1.50\n",
    "\n",
    "Describe the distribution in the hsitograms and match them to the box plots.\n",
    "\n",
    "    (a) Histogram\n",
    "    The histogram (a) belongs to the box plot (2). The data is unimodal and symmetric, with the majority of the data in the middle of the histogram.There are two little tails on either side of the peak, but it is neither right or left skewed.\n",
    "\n",
    "    (b) Histogram\n",
    "    The histogram (b) belongs to the box plot (3), the data doesn't seem to be skewed in either direction, so it is symmetric. All of the data is evenly and densely distributed across the histogram.\n",
    "\n",
    "    (c) Histogram\n",
    "    The histogram (c) belongs to the box plot (1). The data is unimodal and right skewed, the majority of its data appear on between 0 and 4.\n",
    "\n",
    "##### Question 1.58\n",
    "\n",
    "The average on a history exam (scored out of 100 points) was 85, with a standard deviation of 15. Is the distribution of the scores on this exam symmetric? If not, what shape would you expect this distribution to have? Explain your reasoning.\n",
    "\n",
    "    No this data is not symmetric, but probably unimodal and left skewed. I say this because the standard deviation is so high. Since 85 is the average, and 85 is not the center of the spectrum of 0-100 I would assume that the data is skewed for this reason.\n",
    "\n",
    "##### Question 1.62\n",
    "\n",
    "The midrange of a distribution is defined as the average of the maximum and the minimum of that distribution. Is this statistic robust to outliers and extreme skew? Explain your reasoning.\n",
    "\n",
    "    This statistic is not robust, but rather sensitive to extreme skews and outliers. This is because, the midrange only take two numbers into account for the distribution. So it all the data is to one side and you have an outlier on the other side. The midrange may end up being where there's little to no data, simply because of the outlier being taken into account.\n",
    "\n",
    "##### Question 1.66\n",
    "\n",
    "910 randomly sampled registered voters from Tampa, FL were asked if they thought workers who have illegally entered the US should be (i) allowed to keep their jobs adn apply for US citizenship, (ii) allowed to keep their jobs as temporary guest workers but not allowed to apply for US citizenship, or (iii)lose their jobs and have to leave the country.\n",
    "\n",
    "    (a) What percent of these Tampa, FL voters identify themselves as conservatives?\n",
    "    40.88% of Tampa, FL voters identify themselves as conservative.\n",
    "\n",
    "    (b) What percent of these Tampa, FL voters are in favor of the citizenship option?\n",
    "    30.55% of Tampa, FL voters are in favor of the citizenship option.\n",
    "\n",
    "    (c) What percent of these Tampa, FL voters identify themselves as conservatives and are in favor of the citizenship option?\n",
    "    6.26% of the Tampa, FL voters identify themseleves as conservative and are in favor of the citizenship option.\n",
    "\n",
    "    (d) What percent of these Tampa, FL voters who identify themselves as conservatives are also in favor of the citizenship option? What percent of moderates share this view? What percent of liberals share this view?\n",
    "    6.26% are conservative and are in favor of the citizenship option. 13.19% of moderates share the same view, and 11.10% of liberals share the same view as well.\n",
    "\n",
    "    (e) Do political ideology and views on immigration appear to be independent? Explain your reasoning.\n",
    "    No, those that are more conservative tend to be less in favor of illegals gaining citizenship, and those that are less conservative show at least double the support for illegals gaining citizenship. So, it appears that a voter's political ideology does depend upon their views on immigration.\n",
    "    "
   ]
  },
  {
   "cell_type": "markdown",
   "metadata": {},
   "source": [
    "### Part B: Data Analysis of Titanic"
   ]
  },
  {
   "cell_type": "code",
   "execution_count": 8,
   "metadata": {
    "collapsed": false
   },
   "outputs": [],
   "source": [
    "import numpy as np\n",
    "import pandas as pd\n",
    "import matplotlib.pyplot as plt\n",
    "\n",
    "%matplotlib inline\n",
    "df = pd.read_csv(\"titanic.csv\")"
   ]
  },
  {
   "cell_type": "markdown",
   "metadata": {},
   "source": [
    "#### Scatterplot"
   ]
  },
  {
   "cell_type": "code",
   "execution_count": 9,
   "metadata": {
    "collapsed": false
   },
   "outputs": [
    {
     "data": {
      "image/png": "[encoded data removed]",
      "text/plain": [
       "<matplotlib.figure.Figure at 0x1156d72e8>"
      ]
     },
     "metadata": {},
     "output_type": "display_data"
    }
   ],
   "source": [
    "plt.scatter(df['Age'], df['Fare'], alpha=0.2)\n",
    "plt.xlabel('Age');plt.ylabel('Fare');"
   ]
  },
  {
   "cell_type": "markdown",
   "metadata": {},
   "source": [
    "Looking at this scatterplot tells me that the price for fare was most commonly below 50 dollars. The highest density for ages on the boat was between 20 and 40 years. There was a few people that were outliers that paid 500 dollars for their fare. Makes me think a couple things, they probably survived and their socio-economic status was 1st. "
   ]
  },
  {
   "cell_type": "markdown",
   "metadata": {},
   "source": [
    "#### Histogram"
   ]
  },
  {
   "cell_type": "code",
   "execution_count": 10,
   "metadata": {
    "collapsed": false
   },
   "outputs": [
    {
     "data": {
      "text/plain": [
       "<matplotlib.text.Text at 0x1158a2eb8>"
      ]
     },
     "execution_count": 10,
     "metadata": {},
     "output_type": "execute_result"
    },
    {
     "data": {
      "image/png": "[encoded data removed]",
      "text/plain": [
       "<matplotlib.figure.Figure at 0x111fc5588>"
      ]
     },
     "metadata": {},
     "output_type": "display_data"
    }
   ],
   "source": [
    "by_srv = df.groupby('Survived')\n",
    "by_srv['Fare'].hist(bins=25,histtype='step',stacked=True,linewidth=3)\n",
    "plt.legend(['Dead', 'Alive'])\n",
    "plt.xlabel('Fare'); plt.ylabel('Passengers')"
   ]
  },
  {
   "cell_type": "markdown",
   "metadata": {},
   "source": [
    "By looking at this histogram, its unimodal and skewed to the right. These outliers to the right of the graph are those passengers that paid a great deal of money to get on the Titanic. Out of all those outliers, the majority of them survived. Something else to note from this data is that the majority of the deaths were from passengers who paid little to no fare.  "
   ]
  },
  {
   "cell_type": "markdown",
   "metadata": {},
   "source": [
    "#### Contingency Table"
   ]
  },
  {
   "cell_type": "code",
   "execution_count": 11,
   "metadata": {
    "collapsed": false
   },
   "outputs": [
    {
     "data": {
      "text/html": [
       "<div>\n",
       "<table border=\"1\" class=\"dataframe\">\n",
       "  <thead>\n",
       "    <tr style=\"text-align: right;\">\n",
       "      <th>Pclass</th>\n",
       "      <th>1st</th>\n",
       "      <th>2nd</th>\n",
       "      <th>3rd</th>\n",
       "    </tr>\n",
       "    <tr>\n",
       "      <th>Survived</th>\n",
       "      <th></th>\n",
       "      <th></th>\n",
       "      <th></th>\n",
       "    </tr>\n",
       "  </thead>\n",
       "  <tbody>\n",
       "    <tr>\n",
       "      <th>No</th>\n",
       "      <td>80</td>\n",
       "      <td>97</td>\n",
       "      <td>368</td>\n",
       "    </tr>\n",
       "    <tr>\n",
       "      <th>Yes</th>\n",
       "      <td>136</td>\n",
       "      <td>87</td>\n",
       "      <td>119</td>\n",
       "    </tr>\n",
       "  </tbody>\n",
       "</table>\n",
       "</div>"
      ],
      "text/plain": [
       "Pclass    1st  2nd  3rd\n",
       "Survived               \n",
       "No         80   97  368\n",
       "Yes       136   87  119"
      ]
     },
     "execution_count": 11,
     "metadata": {},
     "output_type": "execute_result"
    }
   ],
   "source": [
    "df['Pclass'] = df['Pclass'].astype('category')\n",
    "df['Pclass'].cat.categories = ['1st','2nd','3rd']\n",
    "\n",
    "df['Survived'] = df['Survived'].astype('category')\n",
    "df['Survived'].cat.categories = ['No', 'Yes']\n",
    "\n",
    "by_srv = df.groupby('Survived')\n",
    "by_srv['Pclass'].value_counts().unstack()\n"
   ]
  },
  {
   "cell_type": "markdown",
   "metadata": {},
   "source": [
    "This basic contingency table is comparing the socio-economic status to survival rate. Out of all these cases of passengers on the titanic, 65.36% of those passengers that did not survive were in the 3rd class. Meaning the lower economically inclined people were more likely to die compared to the 1st and 2nd classes. So as you go up the classes economically speaking your chances of survival increase."
   ]
  },
  {
   "cell_type": "markdown",
   "metadata": {},
   "source": [
    "#### Bar Graph"
   ]
  },
  {
   "cell_type": "code",
   "execution_count": 12,
   "metadata": {
    "collapsed": false
   },
   "outputs": [
    {
     "data": {
      "text/plain": [
       "<matplotlib.axes._subplots.AxesSubplot at 0x115926400>"
      ]
     },
     "execution_count": 12,
     "metadata": {},
     "output_type": "execute_result"
    },
    {
     "data": {
      "image/png": "[encoded data removed]",
      "text/plain": [
       "<matplotlib.figure.Figure at 0x1158ac978>"
      ]
     },
     "metadata": {},
     "output_type": "display_data"
    }
   ],
   "source": [
    "df['Sex'] = df['Sex'].astype('category')\n",
    "df['Sex'].cat.categories = ['Female','Male']\n",
    "\n",
    "df['Survived'] = df['Survived'].astype('category')\n",
    "df['Survived'].cat.categories = ['No', 'Yes']\n",
    "\n",
    "by_srv = df.groupby('Survived')\n",
    "by_srv['Sex'].value_counts().unstack(fill_value=0).plot(kind='bar', stacked=True)\n"
   ]
  },
  {
   "cell_type": "markdown",
   "metadata": {},
   "source": [
    "Looking at this stacked bar graph makes the data pretty plain to see and compare. The number of those that survived and were female was nearly double that of males that survived. This could have been from lack of lifeboats and so the women and children occupied the boats that were available. The number of males that died is nearly 5 times the amount of females that died. "
   ]
  },
  {
   "cell_type": "markdown",
   "metadata": {},
   "source": [
    "#### Side-by-Side Boxplot"
   ]
  },
  {
   "cell_type": "code",
   "execution_count": 13,
   "metadata": {
    "collapsed": false
   },
   "outputs": [
    {
     "data": {
      "text/plain": [
       "<matplotlib.axes._subplots.AxesSubplot at 0x115a92ac8>"
      ]
     },
     "execution_count": 13,
     "metadata": {},
     "output_type": "execute_result"
    },
    {
     "data": {
      "image/png": "[encoded data removed]",
      "text/plain": [
       "<matplotlib.figure.Figure at 0x11205e470>"
      ]
     },
     "metadata": {},
     "output_type": "display_data"
    }
   ],
   "source": [
    "by_srv = df.groupby('Age')\n",
    "by_srv['Sex'].value_counts().unstack(fill_value=0).plot(kind='box')"
   ]
  },
  {
   "cell_type": "markdown",
   "metadata": {},
   "source": [
    "The median age for females on the boat was 3 and the median age for males was 4. It looks like the majority of females on the boat were between the ages of 1 and 12. The majority of males on the boat were anywhere between the ages of 1 and 23. This could possibly mean that females in that day were less likely to travel after they were married and the majority of travelers were male."
   ]
  }
 ],
 "metadata": {
  "kernelspec": {
   "display_name": "Python 3",
   "language": "python",
   "name": "python3"
  },
  "language_info": {
   "codemirror_mode": {
    "name": "ipython",
    "version": 3
   },
   "file_extension": ".py",
   "mimetype": "text/x-python",
   "name": "python",
   "nbconvert_exporter": "python",
   "pygments_lexer": "ipython3",
   "version": "3.6.0"
  }
 },
 "nbformat": 4,
 "nbformat_minor": 2
}
