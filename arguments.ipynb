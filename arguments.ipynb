{
 "cells": [
  {
   "cell_type": "markdown",
   "metadata": {
    "deletable": true,
    "editable": true
   },
   "source": [
    "# <span style=\"color:teal;\">Parameters in Function Definitions</span>"
   ]
  },
  {
   "cell_type": "markdown",
   "metadata": {},
   "source": [
    "#### CIS 211 (Spring 2017)"
   ]
  },
  {
   "cell_type": "markdown",
   "metadata": {
    "deletable": true,
    "editable": true
   },
   "source": [
    "Python gives us several ways to define how arguments can be passed to functions:\n",
    "* positional arguments, which is the basic technique you learned in CIS 122 or CIS 210\n",
    "* optional arguments, where a default is specified as part of the `def` statement\n",
    "* list arguments\n",
    "* keyword arguments"
   ]
  },
  {
   "cell_type": "markdown",
   "metadata": {},
   "source": [
    "**Note on Terminology**\n",
    "\n",
    "The names in a `def` statement are **parameters**.  The names are part of the definition of the function, and are placeholders for values that will be passed when the function is called.\n",
    "\n",
    "The objects passed to a function when it is called are **arguments**.  Arguments are objects that exist at runtime, and it is this data that is actually used by the code in the body of the function."
   ]
  },
  {
   "cell_type": "markdown",
   "metadata": {
    "deletable": true,
    "editable": true
   },
   "source": [
    "## <span style=\"color:teal;\">Positional Arguments</span>"
   ]
  },
  {
   "cell_type": "markdown",
   "metadata": {
    "deletable": true,
    "editable": true
   },
   "source": [
    "The simplest way to define specify what needs to be passed to a function is to include a list of names with the `def` statement.  Later, when the function is called, the number of values passed to the function must match the number of names in the `def` statement.\n",
    "\n",
    "The arguments are called **positional** because they are assigned in order by their position in the function definition:  the first parameter is assigned the value of the first argument, the second gets the value of the second argument, and so on."
   ]
  },
  {
   "cell_type": "code",
   "execution_count": 1,
   "metadata": {
    "collapsed": true
   },
   "outputs": [],
   "source": [
    "def hello(name):\n",
    "    'A function that will be passed one argument'\n",
    "    return 'Hello, ' + name\n",
    "\n",
    "def area(width, depth):\n",
    "    'A function that needs two arguments'\n",
    "    return width * depth"
   ]
  },
  {
   "cell_type": "code",
   "execution_count": 2,
   "metadata": {
    "collapsed": false
   },
   "outputs": [
    {
     "data": {
      "text/plain": [
       "'Hello, Harry'"
      ]
     },
     "execution_count": 2,
     "metadata": {},
     "output_type": "execute_result"
    }
   ],
   "source": [
    "hello('Harry')"
   ]
  },
  {
   "cell_type": "code",
   "execution_count": 3,
   "metadata": {
    "collapsed": false
   },
   "outputs": [
    {
     "data": {
      "text/plain": [
       "255"
      ]
     },
     "execution_count": 3,
     "metadata": {},
     "output_type": "execute_result"
    }
   ],
   "source": [
    "area(15, 17)"
   ]
  },
  {
   "cell_type": "markdown",
   "metadata": {
    "deletable": true,
    "editable": true
   },
   "source": [
    "## <span style=\"color:teal;\">Parameters With Default Values</span>"
   ]
  },
  {
   "cell_type": "markdown",
   "metadata": {
    "deletable": true,
    "editable": true
   },
   "source": [
    "The parameter names in the `def` statement can include default values.  Just include an equal sign and the default value immediately after the name.\n",
    "\n",
    "If a parameter is defined with a default value we have the option of leaving the argument out of the function call, in which case the default value is used."
   ]
  },
  {
   "cell_type": "code",
   "execution_count": 4,
   "metadata": {
    "collapsed": true
   },
   "outputs": [],
   "source": [
    "def hello(name = 'World'):\n",
    "    return 'Hello, ' + name"
   ]
  },
  {
   "cell_type": "code",
   "execution_count": 5,
   "metadata": {
    "collapsed": false
   },
   "outputs": [
    {
     "data": {
      "text/plain": [
       "'Hello, Hermione'"
      ]
     },
     "execution_count": 5,
     "metadata": {},
     "output_type": "execute_result"
    }
   ],
   "source": [
    "hello('Hermione')"
   ]
  },
  {
   "cell_type": "code",
   "execution_count": 6,
   "metadata": {
    "collapsed": false
   },
   "outputs": [
    {
     "data": {
      "text/plain": [
       "'Hello, World'"
      ]
     },
     "execution_count": 6,
     "metadata": {},
     "output_type": "execute_result"
    }
   ],
   "source": [
    "hello()"
   ]
  },
  {
   "cell_type": "markdown",
   "metadata": {
    "deletable": true,
    "editable": true
   },
   "source": [
    "## <span style=\"color:teal;\">Mixing Positional and Default Values</span>"
   ]
  },
  {
   "cell_type": "markdown",
   "metadata": {
    "deletable": true,
    "editable": true
   },
   "source": [
    "We can have both kinds of parameters in the same function definition, but there is an important restriction:  all the positional parameters must come before the first parameter with a default value."
   ]
  },
  {
   "cell_type": "code",
   "execution_count": 7,
   "metadata": {
    "collapsed": false
   },
   "outputs": [
    {
     "ename": "SyntaxError",
     "evalue": "non-default argument follows default argument (<ipython-input-7-10d845f5e566>, line 1)",
     "output_type": "error",
     "traceback": [
      "\u001b[0;36m  File \u001b[0;32m\"<ipython-input-7-10d845f5e566>\"\u001b[0;36m, line \u001b[0;32m1\u001b[0m\n\u001b[0;31m    def foo(a, b = 3, c):\u001b[0m\n\u001b[0m           ^\u001b[0m\n\u001b[0;31mSyntaxError\u001b[0m\u001b[0;31m:\u001b[0m non-default argument follows default argument\n"
     ]
    }
   ],
   "source": [
    "def foo(a, b = 3, c):\n",
    "    'This function definition will be rejected by the Python compiler'\n",
    "    pass"
   ]
  },
  {
   "cell_type": "markdown",
   "metadata": {
    "deletable": true,
    "editable": true
   },
   "source": [
    "## <span style=\"color:teal;\">Functions with Multiple Defaults</span>"
   ]
  },
  {
   "cell_type": "markdown",
   "metadata": {},
   "source": [
    "This example shows we can have more than one parameter with a default value:"
   ]
  },
  {
   "cell_type": "code",
   "execution_count": 8,
   "metadata": {
    "collapsed": true
   },
   "outputs": [],
   "source": [
    "def make_house(beds = 3, baths = 2, cellar = False):\n",
    "    print('bedrooms:', beds)\n",
    "    print('bathrooms:', baths)\n",
    "    print('wine cellar:', cellar)"
   ]
  },
  {
   "cell_type": "markdown",
   "metadata": {},
   "source": [
    "Now we have a choice.  We can just pass arguments the normal way, and they will be assigned in order, as positional arguments:"
   ]
  },
  {
   "cell_type": "code",
   "execution_count": 9,
   "metadata": {
    "collapsed": false
   },
   "outputs": [
    {
     "name": "stdout",
     "output_type": "stream",
     "text": [
      "bedrooms: 8\n",
      "bathrooms: 5\n",
      "wine cellar: True\n"
     ]
    }
   ],
   "source": [
    "make_house(8, 5, True)"
   ]
  },
  {
   "cell_type": "markdown",
   "metadata": {},
   "source": [
    "We can call it with fewer arguments, which means the missing arguments will be given default values:"
   ]
  },
  {
   "cell_type": "code",
   "execution_count": 10,
   "metadata": {
    "collapsed": false
   },
   "outputs": [
    {
     "name": "stdout",
     "output_type": "stream",
     "text": [
      "bedrooms: 5\n",
      "bathrooms: 2\n",
      "wine cellar: False\n"
     ]
    }
   ],
   "source": [
    "make_house(5)"
   ]
  },
  {
   "cell_type": "markdown",
   "metadata": {},
   "source": [
    "Other combinations are possible, but in these cases we need to tell Python which parameters are being assigned.  In this example, we want the defaults for `beds` and `cellar` but want to specify the value for `baths`:"
   ]
  },
  {
   "cell_type": "code",
   "execution_count": 11,
   "metadata": {
    "collapsed": false,
    "scrolled": true
   },
   "outputs": [
    {
     "name": "stdout",
     "output_type": "stream",
     "text": [
      "bedrooms: 3\n",
      "bathrooms: 3\n",
      "wine cellar: False\n"
     ]
    }
   ],
   "source": [
    "make_house(baths=3)"
   ]
  },
  {
   "cell_type": "markdown",
   "metadata": {},
   "source": [
    "When we include names we can put the arguments in any order, so this is valid:"
   ]
  },
  {
   "cell_type": "code",
   "execution_count": 12,
   "metadata": {
    "collapsed": false,
    "scrolled": true
   },
   "outputs": [
    {
     "name": "stdout",
     "output_type": "stream",
     "text": [
      "bedrooms: 7\n",
      "bathrooms: 2\n",
      "wine cellar: True\n"
     ]
    }
   ],
   "source": [
    "make_house(cellar=True, beds=7)"
   ]
  },
  {
   "cell_type": "markdown",
   "metadata": {},
   "source": [
    "However, once an argument list has a `name=value` pair the remaining arguments must also be given names.  This call will result in a run-time error:"
   ]
  },
  {
   "cell_type": "code",
   "execution_count": 13,
   "metadata": {
    "collapsed": false
   },
   "outputs": [
    {
     "ename": "SyntaxError",
     "evalue": "positional argument follows keyword argument (<ipython-input-13-a45ecb8078f2>, line 1)",
     "output_type": "error",
     "traceback": [
      "\u001b[0;36m  File \u001b[0;32m\"<ipython-input-13-a45ecb8078f2>\"\u001b[0;36m, line \u001b[0;32m1\u001b[0m\n\u001b[0;31m    make_house(cellar=True, 4, 4)      # <= error!\u001b[0m\n\u001b[0m                           ^\u001b[0m\n\u001b[0;31mSyntaxError\u001b[0m\u001b[0;31m:\u001b[0m positional argument follows keyword argument\n"
     ]
    }
   ],
   "source": [
    "make_house(cellar=True, 4, 4)      # <= error!"
   ]
  },
  {
   "cell_type": "markdown",
   "metadata": {
    "deletable": true,
    "editable": true
   },
   "source": [
    "## <span style=\"color:teal;\">How to Use Default Parameters</span>"
   ]
  },
  {
   "cell_type": "markdown",
   "metadata": {
    "deletable": true,
    "editable": true
   },
   "source": [
    "Mixing positional and default parameters can be confusing.  Here is some general advice:\n",
    "\n",
    "**Use All Positional Parameters Except for One or Two Options**\n",
    "\n",
    "With this strategy you would write function definitions the way you always do, but include the possibility of an extra parameter or two for unusual situations.\n",
    "\n",
    "```\n",
    "def make_house(beds, baths, stories, cellar=False):\n",
    "    ...\n",
    "```\n",
    "\n",
    "**Give All Parameters Default Values**\n",
    "\n",
    "If a function is going to have more than a few parameters (3? 4?) give them all default values, and when you call the function specify them all by name.\n",
    "\n",
    "```\n",
    "def make_house(beds=3, baths=2, stories=1, kitchen=(10,12), library=None, cellar=None):\n",
    "    ...\n",
    "    \n",
    "h = make_house(stories=3, beds=8, baths=10, cellar=(15,30))\n",
    "```"
   ]
  },
  {
   "cell_type": "markdown",
   "metadata": {
    "deletable": true,
    "editable": true
   },
   "source": [
    "## <span style=\"color:teal;\">Optional Arguments for Constructors</span>"
   ]
  },
  {
   "cell_type": "markdown",
   "metadata": {
    "deletable": true,
    "editable": true
   },
   "source": [
    "The techniques shown above can be used when defining the `__init__` function for a class.  That allows us to create objects with default values for some attributes, or to specify attributes using the `name=value` syntax.\n",
    "\n",
    "Here is a class named Table.  When we make a table we specify the size (number of seats), shape, and material.  In this design we always have to pass an argument for size, but the other two attributes can be omitted and the constructor will use the defaults."
   ]
  },
  {
   "cell_type": "code",
   "execution_count": 14,
   "metadata": {
    "collapsed": true
   },
   "outputs": [],
   "source": [
    "class Table:\n",
    "    'A dinig room table.'\n",
    "    \n",
    "    def __init__(self, capacity, shape='rectangle', material='wood'):\n",
    "        self._cap = capacity\n",
    "        self._shape = shape\n",
    "        self._material = material\n",
    "        \n",
    "    def __repr__(self):\n",
    "        return 'Seats {}, {}, made of {}'.format(self._cap, self._shape, self._material)"
   ]
  },
  {
   "cell_type": "code",
   "execution_count": 15,
   "metadata": {
    "collapsed": false
   },
   "outputs": [
    {
     "data": {
      "text/plain": [
       "Seats 6, rectangle, made of wood"
      ]
     },
     "execution_count": 15,
     "metadata": {},
     "output_type": "execute_result"
    }
   ],
   "source": [
    "Table(6)"
   ]
  },
  {
   "cell_type": "code",
   "execution_count": 16,
   "metadata": {
    "collapsed": false
   },
   "outputs": [
    {
     "data": {
      "text/plain": [
       "Seats 6, oval, made of wood"
      ]
     },
     "execution_count": 16,
     "metadata": {},
     "output_type": "execute_result"
    }
   ],
   "source": [
    "Table(6, shape='oval')"
   ]
  },
  {
   "cell_type": "code",
   "execution_count": 17,
   "metadata": {
    "collapsed": false
   },
   "outputs": [
    {
     "data": {
      "text/plain": [
       "Seats 8, rectangle, made of glass"
      ]
     },
     "execution_count": 17,
     "metadata": {},
     "output_type": "execute_result"
    }
   ],
   "source": [
    "Table(8, material='glass')"
   ]
  },
  {
   "cell_type": "markdown",
   "metadata": {
    "deletable": true,
    "editable": true
   },
   "source": [
    "## <span style=\"color:teal;\">Advanced Topic: List Arguments and Keyword Arguments</span>"
   ]
  },
  {
   "cell_type": "markdown",
   "metadata": {
    "deletable": true,
    "editable": true
   },
   "source": [
    "You won't need these two techniques for CIS 211, but they're worth knowing."
   ]
  },
  {
   "cell_type": "markdown",
   "metadata": {
    "deletable": true,
    "editable": true
   },
   "source": [
    "The last name in a parameter last can have an asterisk in front of it.  That tells Python there can be any number of arguments passed in this position.  All the arguments are collected into a tuple and assigned to the last parameter.\n",
    "* in earlier versions of Python the arguments were collected into a list, so Python books and documentation refer to \"list arguments\""
   ]
  },
  {
   "cell_type": "code",
   "execution_count": 18,
   "metadata": {
    "collapsed": true
   },
   "outputs": [],
   "source": [
    "def foo(a, b, *c):\n",
    "    print('a:', a)\n",
    "    print('b:', b)\n",
    "    print('c:', c)"
   ]
  },
  {
   "cell_type": "code",
   "execution_count": 19,
   "metadata": {
    "collapsed": false
   },
   "outputs": [
    {
     "name": "stdout",
     "output_type": "stream",
     "text": [
      "a: H\n",
      "b: He\n",
      "c: ('Li', 'Be', 'B', 'C', 'N')\n"
     ]
    }
   ],
   "source": [
    "foo('H', 'He', 'Li', 'Be', 'B', 'C', 'N')"
   ]
  },
  {
   "cell_type": "code",
   "execution_count": 20,
   "metadata": {
    "collapsed": false
   },
   "outputs": [
    {
     "name": "stdout",
     "output_type": "stream",
     "text": [
      "a: 0\n",
      "b: 1\n",
      "c: ()\n"
     ]
    }
   ],
   "source": [
    "foo(0, 1)"
   ]
  },
  {
   "cell_type": "markdown",
   "metadata": {
    "deletable": true,
    "editable": true
   },
   "source": [
    "If the last parameter has a double asterisk, the function expects a set of `key=value` pairs will be passed as arguments.  They will all be collected and stored in a dictionary."
   ]
  },
  {
   "cell_type": "code",
   "execution_count": 21,
   "metadata": {
    "collapsed": true
   },
   "outputs": [],
   "source": [
    "def bar(a, **x):\n",
    "    print('a:', a)\n",
    "    print('x:', x)"
   ]
  },
  {
   "cell_type": "code",
   "execution_count": 22,
   "metadata": {
    "collapsed": false
   },
   "outputs": [
    {
     "name": "stdout",
     "output_type": "stream",
     "text": [
      "a: one\n",
      "x: {'french': 'un', 'spanish': 'uno', 'german': 'ein'}\n"
     ]
    }
   ],
   "source": [
    "bar('one', french='un', spanish='uno', german='ein')"
   ]
  },
  {
   "cell_type": "code",
   "execution_count": null,
   "metadata": {
    "collapsed": true
   },
   "outputs": [],
   "source": []
  }
 ],
 "metadata": {
  "anaconda-cloud": {},
  "celltoolbar": "Create Assignment",
  "kernelspec": {
   "display_name": "Python 3",
   "language": "python",
   "name": "python3"
  },
  "language_info": {
   "codemirror_mode": {
    "name": "ipython",
    "version": 3
   },
   "file_extension": ".py",
   "mimetype": "text/x-python",
   "name": "python",
   "nbconvert_exporter": "python",
   "pygments_lexer": "ipython3",
   "version": "3.6.0"
  }
 },
 "nbformat": 4,
 "nbformat_minor": 0
}
