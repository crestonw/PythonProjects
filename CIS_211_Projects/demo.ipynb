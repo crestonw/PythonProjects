{
 "cells": [
  {
   "cell_type": "markdown",
   "metadata": {
    "deletable": true,
    "editable": true
   },
   "source": [
    "# <span style=\"color:teal;\">CIS 211 Notebook Demo</span>"
   ]
  },
  {
   "cell_type": "markdown",
   "metadata": {
    "deletable": true,
    "editable": true
   },
   "source": [
    "** This notebook is for an in-class demonstration of how to use Jupyter for weekly programming projects. **\n",
    "\n",
    "The programming exercises here are based on Project 2 (decrypting strings made with a substitution cipher)."
   ]
  },
  {
   "cell_type": "markdown",
   "metadata": {
    "deletable": true,
    "editable": true
   },
   "source": [
    "##### Reading:  M&R 3.1 -- 3.3, 3.5; &nbsp; 8.1 -- 8.2, 8.4.1 -- 8.4.4"
   ]
  },
  {
   "cell_type": "markdown",
   "metadata": {},
   "source": [
    "Several steps in a decryption algorithm need to see if a string is a valid English word.  We need a Python data structure that allows for a fast lookup in a collection of 100,000 or more strings.  \n",
    "\n",
    "We could store the words in a list, but (as you should recall from CIS 210) the amount of time to find a string in a list is proportional to the length of the list.\n",
    "\n",
    "In Chapter 8 there is a suggestion to use a dictionary instead of a list.  Each key is an English word and the value can be anything, *e.g.* the number 0:\n",
    "\n",
    "``` \n",
    "words = { 'a' : 0, 'aardvark' : 0, 'abaci' : 0, ... }\n",
    "```\n",
    "\n",
    "To see if a string is an English word just check to see if the string is a key, using the `in` operator:\n",
    "```\n",
    "if w in words:\n",
    "   ...\n",
    "```\n",
    "The time for this operation is proportional to $log_2 n$ where $n$ is the number of words in the dictionary.\n",
    "\n",
    "What about sets?  Do you think Python organizes set objects so it can do a $log_2$ time lookup?  This project will help you find out.\n",
    "\n",
    "| data structure | time to search |\n",
    "| ----- | ----- |\n",
    "| List | $\\mathcal{O}(n)$ |\n",
    "| Dictionary | $\\mathcal{O}(\\log n)$ |\n",
    "| Set | $\\mathcal{O}(\\log n)$ ?|\n"
   ]
  },
  {
   "cell_type": "markdown",
   "metadata": {
    "deletable": true,
    "editable": true
   },
   "source": [
    "wordlist -- return list of words from file\n",
    "sample(wl, n) -- return dictionary {'list': lst, 'dict': dct, 'set': set} with randomly chosen words\n",
    "test(x, m) -- pass sample, compute time to look up random collection of words (one is too short)\n",
    "extra -- show how to plot results of experiment (saved in data.csv)"
   ]
  },
  {
   "cell_type": "markdown",
   "metadata": {
    "deletable": true,
    "editable": true
   },
   "source": [
    "###  <span style=\"color:teal\">Part 1: &nbsp; Word List (N points)</span>"
   ]
  },
  {
   "cell_type": "markdown",
   "metadata": {
    "deletable": true,
    "editable": true
   },
   "source": [
    "A file named `wordlist.txt` (you'll find a link in the project description on Canvas) has a list of English words, with one word per line.\n",
    "\n",
    "Use the code cell below to write Python code that opens the file, reads the words, and saves them in a list named `wordlist`."
   ]
  },
  {
   "cell_type": "markdown",
   "metadata": {
    "deletable": true,
    "editable": true
   },
   "source": [
    "##### <span style=\"color:red\">Code</span>"
   ]
  },
  {
   "cell_type": "code",
   "execution_count": null,
   "metadata": {
    "collapsed": false,
    "deletable": false,
    "editable": true,
    "nbgrader": {
     "checksum": "b7b7fde463dbaf7c5d4739fe4e2055d6",
     "grade": true,
     "grade_id": "wordlist",
     "locked": false,
     "points": 5.0,
     "schema_version": 1,
     "solution": true
    }
   },
   "outputs": [],
   "source": [
    "# YOUR CODE HERE\n",
    "pass"
   ]
  },
  {
   "cell_type": "markdown",
   "metadata": {
    "deletable": true,
    "editable": true
   },
   "source": [
    "##### <span style=\"color:red\">Autograder Tests</span>"
   ]
  },
  {
   "cell_type": "code",
   "execution_count": null,
   "metadata": {
    "collapsed": false,
    "deletable": false,
    "editable": false,
    "nbgrader": {
     "checksum": "2bbe9719e8e4593a39e5cf4b8ec930d0",
     "grade": true,
     "grade_id": "wordlist_test_1",
     "locked": true,
     "points": 5.0,
     "schema_version": 1,
     "solution": false
    }
   },
   "outputs": [],
   "source": [
    "# there are 106,566 words in the file\n",
    "assert len(wordlist) == 106566"
   ]
  },
  {
   "cell_type": "code",
   "execution_count": null,
   "metadata": {
    "collapsed": false,
    "deletable": false,
    "editable": false,
    "nbgrader": {
     "checksum": "352ac58048f6cd342f85240ae0cc2be9",
     "grade": true,
     "grade_id": "wordlist_test_2",
     "locked": true,
     "points": 5.0,
     "schema_version": 1,
     "solution": false
    }
   },
   "outputs": [],
   "source": [
    "# look up some words we expect to be in the dictionary\n",
    "for w in ['python', 'programming', 'in', 'context']:\n",
    "    assert w in wordlist"
   ]
  },
  {
   "cell_type": "markdown",
   "metadata": {
    "deletable": true,
    "editable": true
   },
   "source": [
    "##### <span style=\"color:red\">Documentation</span>"
   ]
  },
  {
   "cell_type": "markdown",
   "metadata": {
    "deletable": false,
    "editable": true,
    "nbgrader": {
     "checksum": "c5833941ce2be5ab556fd659398718a2",
     "grade": true,
     "grade_id": "wordlist_doc",
     "locked": false,
     "points": 5.0,
     "schema_version": 1,
     "solution": true
    }
   },
   "source": [
    "YOUR DOCUMENTATION HERE"
   ]
  },
  {
   "cell_type": "markdown",
   "metadata": {
    "deletable": true,
    "editable": true
   },
   "source": [
    "###  <span style=\"color:teal\">Part 2: &nbsp; Lists, Dictionaries, Sets (N points)</span>"
   ]
  },
  {
   "cell_type": "markdown",
   "metadata": {
    "deletable": true,
    "editable": true
   },
   "source": [
    "Write a function named `wordlist_sample` that has two arguments, a list of words and an integer `n`.  The function should select `n` words at random from the word list created by the previous project and then make a list, a dictionary, and a set that all contain the same words.  The return value will be a tuple containing the three data structures.\n",
    "\n",
    "**Note:** to select words at random from a list use the `sample` function from Python's `random` library.\n",
    "\n",
    "Example:\n",
    "```\n",
    ">>> wl, wd, ws = wordlist_sample(5)\n",
    "\n",
    ">>> print(wl); print(wd); print(ws)\n",
    "['chronometry', 'vicariousness', 'mischarged', 'gadding', 'languishing']\n",
    "{'languishing': 0, 'vicariousness': 0, 'gadding': 0, 'chronometry': 0, 'mischarged': 0}\n",
    "{'gadding', 'languishing', 'vicariousness', 'chronometry', 'mischarged'}\n",
    "```\n"
   ]
  },
  {
   "cell_type": "markdown",
   "metadata": {
    "deletable": true,
    "editable": true
   },
   "source": [
    "##### <span style=\"color:red\">Code</span>"
   ]
  },
  {
   "cell_type": "code",
   "execution_count": null,
   "metadata": {
    "collapsed": true,
    "deletable": false,
    "editable": true,
    "nbgrader": {
     "checksum": "ea3eb393b3c81fdc8ee8d34f4106b906",
     "grade": true,
     "grade_id": "wordlist_sample",
     "locked": false,
     "points": 8,
     "schema_version": 1,
     "solution": true
    }
   },
   "outputs": [],
   "source": [
    "# YOUR CODE HERE\n",
    "pass"
   ]
  },
  {
   "cell_type": "markdown",
   "metadata": {
    "deletable": true,
    "editable": true
   },
   "source": [
    "##### <span style=\"color:red\">Autograder Tests</span>"
   ]
  },
  {
   "cell_type": "code",
   "execution_count": null,
   "metadata": {
    "collapsed": false,
    "deletable": false,
    "editable": false,
    "nbgrader": {
     "checksum": "03d3cd56781008a1c380a50b0a6b139d",
     "grade": true,
     "grade_id": "sample_test_1",
     "locked": true,
     "points": 4,
     "schema_version": 1,
     "solution": false
    }
   },
   "outputs": [],
   "source": [
    "# Make a list of 10 words, verify the items passed back have the expected types\n",
    "\n",
    "wl, wd, ws = wordlist_sample(10)\n",
    "assert isinstance(wl, list)\n",
    "assert isinstance(wd, dict)\n",
    "assert isinstance(ws, set)"
   ]
  },
  {
   "cell_type": "code",
   "execution_count": null,
   "metadata": {
    "collapsed": false,
    "deletable": false,
    "editable": false,
    "nbgrader": {
     "checksum": "dcaf100357125d416306e84cc260c455",
     "grade": true,
     "grade_id": "sample_test_2",
     "locked": true,
     "points": 4,
     "schema_version": 1,
     "solution": false
    }
   },
   "outputs": [],
   "source": [
    "# Check to see if the list and dictionary have the same contents\n",
    "\n",
    "wl, wd, ws = wordlist_sample(10)\n",
    "assert len(wl) == len(wd)\n",
    "for x in wl:\n",
    "    assert x in wd"
   ]
  },
  {
   "cell_type": "code",
   "execution_count": null,
   "metadata": {
    "collapsed": false,
    "deletable": false,
    "editable": false,
    "nbgrader": {
     "checksum": "463bc2577e6f05a05d93a0d2ae5b4490",
     "grade": true,
     "grade_id": "sample_test_3",
     "locked": true,
     "points": 4,
     "schema_version": 1,
     "solution": false
    }
   },
   "outputs": [],
   "source": [
    "# Same as above, but compare the list and the set\n",
    "\n",
    "wl, wd, ws = wordlist_sample(10)\n",
    "assert len(ws) == len(ws)\n",
    "for x in wl:\n",
    "    assert x in ws"
   ]
  },
  {
   "cell_type": "markdown",
   "metadata": {
    "deletable": true,
    "editable": true
   },
   "source": [
    "##### <span style=\"color:red\">Documentation</span>"
   ]
  },
  {
   "cell_type": "markdown",
   "metadata": {
    "deletable": false,
    "editable": true,
    "nbgrader": {
     "checksum": "6f5cca8fb58f492d053b0bd06d7c7197",
     "grade": true,
     "grade_id": "wordlist_xxx",
     "locked": false,
     "points": 5,
     "schema_version": 1,
     "solution": true
    }
   },
   "source": [
    "YOUR DOCUMENTATION HERE"
   ]
  },
  {
   "cell_type": "markdown",
   "metadata": {
    "deletable": true,
    "editable": true
   },
   "source": [
    "###  <span style=\"color:teal\">Part 3: Experiments</span>"
   ]
  },
  {
   "cell_type": "markdown",
   "metadata": {
    "deletable": true,
    "editable": true
   },
   "source": [
    "This section of the notebooks shows off some of the features of Jupyter and introduces `matplotlib`, a scientific visualization library we'll use later in the term.\n",
    "\n",
    "I ran some experiments to measure how long it takes to look up words in each data structure.  If we simply look up a random word $w$ it's possible the $w$ could be the very first word in the data structure and there would be no difference.  Similarly, if the random sample has a lot of words that start with 'a' and the list is sorted the list lookup times will be artificially short.  So in these experiments I did searches for a set of \"nonsense words\" -- words I know are not in the word list, and which guarantee the search takes the longest time for each type of data structure.\n",
    "\n",
    "The code cell below defines a special type of class called a \"context manager\" and a helper function named `time_lookups` that uses the context manager to measure execution time.  Pass `time_lookups` a list of words to look for and either a list, dictionary, or set and it will return the execution time (in milliseconds) it took to look for all the words in that data structure."
   ]
  },
  {
   "cell_type": "code",
   "execution_count": null,
   "metadata": {
    "collapsed": true,
    "deletable": true,
    "editable": true
   },
   "outputs": [],
   "source": [
    "import time\n",
    "\n",
    "class Timer:\n",
    "    '''\n",
    "    A Timer object is a context manager that can be used to measure execution times.\n",
    "    '''\n",
    "    def __enter__(self):\n",
    "        self._start = time.time()\n",
    "        return self\n",
    "    \n",
    "    def __exit__(self, *args):\n",
    "        self._stop = time.time()\n",
    "        self.msecs = 1000 * (self._stop - self._start)\n",
    "        \n",
    "def time_lookups(lst, struct):\n",
    "    '''\n",
    "    Return the amount of time it takes to look up all the strings in lst\n",
    "    in a container (a set, dictionary, or list).  The return value is the\n",
    "    average execution time measured over n tests.\n",
    "    '''\n",
    "    num_found = 0\n",
    "    with Timer() as t:\n",
    "        for w in lst:\n",
    "            if w in struct:     # note the 'in' operator works for all 3 data structures\n",
    "                num_found += 1\n",
    "    assert num_found == 0       # make sure each lookup fails\n",
    "    return t.msecs"
   ]
  },
  {
   "cell_type": "markdown",
   "metadata": {
    "deletable": true,
    "editable": true
   },
   "source": [
    "The code cell below illustrates how to use `time_lookups` to measure how long it takes to search for the nonsense words in a random list of 100 words.  Note that to make a fair comparison we want each data structure to have the same words (which is why we wrote the `wordlist_sample` function)."
   ]
  },
  {
   "cell_type": "code",
   "execution_count": null,
   "metadata": {
    "collapsed": false,
    "deletable": true,
    "editable": true
   },
   "outputs": [],
   "source": [
    "wl, wd, ws = wordlist_sample(1000)\n",
    "nonsense = ['bryllyg', 'slythy', 'toves', 'mimsy', 'borogroves']\n",
    "print('list:', time_lookups(nonsense, wl))\n",
    "print('dict:', time_lookups(nonsense, wd))\n",
    "print('set: ', time_lookups(nonsense, ws))"
   ]
  },
  {
   "cell_type": "markdown",
   "metadata": {},
   "source": [
    "This function runs an experiment by making several different sized data structures and recording how long it takes to search for nonsense words in each structure.  The default experiment is based on 10 different sizes from 10 up to 100.  \n",
    "\n",
    "For each size the function calls `wordlist_size` to make three containers of that size and then save the execution time for looking up words in each container.  The results are then plotted and displayed in the notebook."
   ]
  },
  {
   "cell_type": "code",
   "execution_count": null,
   "metadata": {
    "collapsed": false
   },
   "outputs": [],
   "source": [
    "import matplotlib.pyplot as plt\n",
    "% matplotlib inline\n",
    "\n",
    "def run_experiment(minsize = 10, maxsize = 100, stepsize = 10, scale = 1):\n",
    "    \n",
    "    tl = []     # time to search a list\n",
    "    td = []     # time to search a dictionary\n",
    "    ts = []     # time to search a set\n",
    "    x = []      # structure size (x-axis in plot)\n",
    "    \n",
    "    nonsense = ['jabberwock', 'bryllyg', 'slythy', 'toves', 'mimsy', 'borogroves', \n",
    "                'outgrabe', 'vorpal', 'frabjous', 'jubjub', 'raths', 'uffish',\n",
    "                'tulgey', 'frumious', 'manxome', ]\n",
    "    \n",
    "    for size in range(minsize, maxsize+1, stepsize):\n",
    "        wl, wd, ws = wordlist_sample(size)\n",
    "        tl.append(time_lookups(nonsense, wl))\n",
    "        td.append(scale * time_lookups(nonsense, wd))\n",
    "        ts.append(scale * time_lookups(nonsense, ws))\n",
    "        x.append(size)\n",
    "        \n",
    "    plt.plot(x, tl)\n",
    "    plt.plot(x, td)\n",
    "    plt.plot(x, ts)\n",
    "    plt.legend(('list', 'dict', 'set'), loc='upper left')\n",
    "    plt.axis([0, maxsize+minsize, 0, max(tl)*1.1])\n",
    "    plt.xlabel('number of words')\n",
    "    plt.ylabel('time (msec)')\n"
   ]
  },
  {
   "cell_type": "code",
   "execution_count": null,
   "metadata": {
    "collapsed": false,
    "deletable": true,
    "editable": true
   },
   "outputs": [],
   "source": [
    "run_experiment()"
   ]
  },
  {
   "cell_type": "markdown",
   "metadata": {},
   "source": [
    "This experiment tests 50 different sizes ranging from 1,000 up to 50,000 (about half the words in the dictionary).  "
   ]
  },
  {
   "cell_type": "code",
   "execution_count": null,
   "metadata": {
    "collapsed": false
   },
   "outputs": [],
   "source": [
    "run_experiment(minsize=1000, maxsize=50000, stepsize=1000)"
   ]
  },
  {
   "cell_type": "markdown",
   "metadata": {},
   "source": [
    "Even with 50,000 words it hardly takes any time at all to look for words in dictionaries and sets.  Pass a \"scale\" parameter to the function to tell it to multiply the times for those two structures by a constant factor so we can \"zoom in\"."
   ]
  },
  {
   "cell_type": "code",
   "execution_count": null,
   "metadata": {
    "collapsed": false
   },
   "outputs": [],
   "source": [
    "run_experiment(minsize=1000, maxsize=50000, stepsize=1000, scale = 100)"
   ]
  },
  {
   "cell_type": "markdown",
   "metadata": {},
   "source": [
    "### Extra Credit Challenges"
   ]
  },
  {
   "cell_type": "markdown",
   "metadata": {},
   "source": [
    "(1) Do the results from the last plot seem accurate?  Can it really be the case that looking up words in a dictionary or set with 50,000 items is roughly as fast as looking up the same words in a dictionary or set with 1,000 items? Write an explanation for why the dictionary and set times are this low. Hint: do some \"back of the envelope\" calculations.  What is $\\log_2 50000$?\n",
    "\n",
    "(2) Why are the lines in the plots so \"messy\"?  Why do the lines go down some times, instead of always increasing from one size to the next?\n",
    "\n",
    "(3) Modify the `run_experiment` function so it returns the average time from several measurements.  Add an extra parameter named `repetitions` with a default of 1.  Then for each problem size run the specified number of repetitions and save the mean execution time in the result lists.\n",
    "\n",
    "Mail your explanations/notebooks to **cis211-extra@cs.uoregon.edu**.\n",
    "\n"
   ]
  },
  {
   "cell_type": "code",
   "execution_count": null,
   "metadata": {
    "collapsed": true
   },
   "outputs": [],
   "source": []
  }
 ],
 "metadata": {
  "anaconda-cloud": {},
  "kernelspec": {
   "display_name": "Python 3",
   "language": "python",
   "name": "python3"
  },
  "language_info": {
   "codemirror_mode": {
    "name": "ipython",
    "version": 3
   },
   "file_extension": ".py",
   "mimetype": "text/x-python",
   "name": "python",
   "nbconvert_exporter": "python",
   "pygments_lexer": "ipython3",
   "version": "3.5.1"
  }
 },
 "nbformat": 4,
 "nbformat_minor": 0
}
