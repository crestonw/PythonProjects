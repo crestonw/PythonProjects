{
 "cells": [
  {
   "cell_type": "markdown",
   "metadata": {},
   "source": [
    "# <span style=\"color:teal;\">CIS 211 Project 8:  &nbsp; Bears and Fish</span>"
   ]
  },
  {
   "cell_type": "markdown",
   "metadata": {},
   "source": [
    "##### Due 11:00 P.M. Thursday June 8"
   ]
  },
  {
   "cell_type": "markdown",
   "metadata": {},
   "source": [
    "##### <span style=\"color:red\">Group Members:</span>"
   ]
  },
  {
   "cell_type": "markdown",
   "metadata": {},
   "source": [
    "For this project you are allowed to work in small groups of up to 3 people.\n",
    "\n",
    "If you work in a group only one group member should upload this notebook to Canvas.  Edit this cell to include the name and DuckID for each member of the group:"
   ]
  },
  {
   "cell_type": "markdown",
   "metadata": {},
   "source": [
    "**Name:**\n",
    "\n",
    "**Name:**\n",
    "\n",
    "**Name:**"
   ]
  },
  {
   "cell_type": "markdown",
   "metadata": {},
   "source": [
    "##  <span style=\"color:teal;\">Overview</span> "
   ]
  },
  {
   "cell_type": "markdown",
   "metadata": {},
   "source": [
    "The last project this term is a cellular automaton style biological simulation.  \n",
    "\n",
    "The sytem is described in Chapter 11 of the Miller and Ranum text.  **Read the description of the simulation in the textbook before you start working on this project.**  Your code will be quite a bit different than the code in the book, but the rules of the simulation are the same, and you need to know how objects interact.\n",
    "\n",
    "The project has three main parts:\n",
    "* A class named World that defines a 2D grid where cells are accessed according to their row and column coordinates\n",
    "* Classes for Bear and Fish, the organisms that can inhabit the world\n",
    "* Two top level functions, `wbf` and `step_system`; the first will make a world and populate it at random with bears and fish, and the second will run a simulation using that world.\n",
    "\n",
    "We're written `step_system` for you -- it's in the last code cell in this notebook -- but you need to design, implement, and test the classes and the `wbf` function."
   ]
  },
  {
   "cell_type": "markdown",
   "metadata": {},
   "source": [
    "##  <span style=\"color:teal;\">Libraries</span> "
   ]
  },
  {
   "cell_type": "markdown",
   "metadata": {},
   "source": [
    "Your program will need to use `numpy` (a numeric processing library) and `random` (the builtin random number generator module).  You can import additional modules if you wish; add the import statements to this code cell."
   ]
  },
  {
   "cell_type": "code",
   "execution_count": 1,
   "metadata": {
    "collapsed": true
   },
   "outputs": [],
   "source": [
    "IPython = (__doc__ is not None) and ('IPython' in __doc__)\n",
    "Main    = __name__ == '__main__'\n",
    "\n",
    "import numpy as np\n",
    "import random"
   ]
  },
  {
   "cell_type": "markdown",
   "metadata": {},
   "source": [
    "##  <span style=\"color:teal;\">Event Log</span> "
   ]
  },
  {
   "cell_type": "markdown",
   "metadata": {},
   "source": [
    "A useful debugging technique is to save descriptions of events in a log.  Any code in the simulator, whether it is the top level function or a method in one of your classes, can call a function named `log`, passing it a description of an event that just occurred.  Examples might be \n",
    "```\n",
    "new Fish in cell (x,y)\n",
    "```\n",
    "or \n",
    "```\n",
    "Bear in cell (x,y) eats Fish in cell (x,y)\n",
    "```\n",
    "\n",
    "The function below uses a global variable named `logging`.  If you want to take advantage of the `log` function:\n",
    "* edit the cell to set `logging` to True\n",
    "* add calls to `log` at various points in your methods\n",
    "\n",
    "Later, when doing large scale simulations, you can turn off logging simply by setting `logging` to False before you call the top level simulation function.\n",
    "\n",
    "**Note:** &nbsp; you can change the definition of the `log` function however you want, _e.g._ you can have it write log messages to a file or print additional information."
   ]
  },
  {
   "cell_type": "code",
   "execution_count": 2,
   "metadata": {
    "collapsed": true
   },
   "outputs": [],
   "source": [
    "logging = False\n",
    "\n",
    "def log(message):\n",
    "    if logging:\n",
    "        print(message)"
   ]
  },
  {
   "cell_type": "markdown",
   "metadata": {},
   "source": [
    "##  <span style=\"color:teal;\">World (20 points)</span>"
   ]
  },
  {
   "cell_type": "markdown",
   "metadata": {},
   "source": [
    "Write the code for the World class in the code cell below.\n",
    "\n",
    "The constructor will be passed the grid size (number of rows and columns), and it should initialize all the cells to `None`.\n",
    "\n",
    "Define the following methods:\n",
    "* `add` will be passed an object and a location; it should store the object in the specified location \n",
    "* `fetch` should return the current contents of a location (which may be `None`)\n",
    "* `remove` should set a location to `None`.\n",
    "\n",
    "Finally, define a method named `biota` that will return a list of all items currently in the world.\n",
    "\n",
    "You can have additional instance methods, class variables, or class methods.  Make sure you describe any new additions in the documentation."
   ]
  },
  {
   "cell_type": "markdown",
   "metadata": {},
   "source": [
    "##### <span style=color:red>Code</span> "
   ]
  },
  {
   "cell_type": "markdown",
   "metadata": {},
   "source": [
    "**Important** Write the definition of your World class in the following code cell. Do not delete or move this cell."
   ]
  },
  {
   "cell_type": "code",
   "execution_count": 3,
   "metadata": {
    "collapsed": false,
    "deletable": false,
    "nbgrader": {
     "checksum": "9ebe2ab2a5585a69d07043b15d9bc168",
     "grade": true,
     "grade_id": "world",
     "locked": false,
     "points": 10,
     "schema_version": 1,
     "solution": true
    }
   },
   "outputs": [],
   "source": [
    "class World:\n",
    "    ''' The world class defines the dimensions of the grid in which our\n",
    "    other bear and fish objects are created in. World objects have the \n",
    "    methods add, fetch, remove, and biota. The constructor is passed \n",
    "    a grid size and intializes all the cells within the grid to None.\n",
    "    '''\n",
    "    def __init__(self, x, y):\n",
    "        ''' The constructor function is passed x and y dimensions\n",
    "        to create the grid.\n",
    "        '''\n",
    "        self._x = x\n",
    "        self._y = y\n",
    "        self._grid = np.array([None] * (x*y)).reshape(x,y)\n",
    "        \n",
    "    def x(self):\n",
    "        ''' This is a getter method for the instance variable x'''\n",
    "        \n",
    "        return self._x\n",
    "    \n",
    "    def y(self):\n",
    "        ''' This is a getter method for the instance variable y'''\n",
    "        \n",
    "        return self._y\n",
    "   \n",
    "    def __getitem__(self, loc):\n",
    "        ''' This method gives world objects the indexing operation\n",
    "        so the we can access content at a given location within our\n",
    "        grid\n",
    "        '''\n",
    "        \n",
    "        return self._grid[loc]\n",
    "    \n",
    "    def __setitem__(self, loc, val):\n",
    "        ''' This method allows us to assign a value to a cell at a \n",
    "        given location within our grid.\n",
    "        '''\n",
    "        \n",
    "        self._grid[loc] = val\n",
    "        \n",
    "    def add(self, obj, loc):\n",
    "        ''' The add method is passed an object and a location for the\n",
    "        object passed to be placed at on the grid constructed.\n",
    "        '''\n",
    "        \n",
    "        self._grid[loc] = obj\n",
    "        \n",
    "    def fetch(self, loc):\n",
    "        ''' The fetch method returns the contents of a cell at the given\n",
    "        location on the grid. If nothing is in the cell, None should\n",
    "        be returned.\n",
    "        '''\n",
    "        \n",
    "        return self._grid[loc]\n",
    "    \n",
    "    def remove(self, obj, loc):\n",
    "        ''' The remove method is passed a location and the cell in the\n",
    "        grid at the passed location is set to None.\n",
    "        '''\n",
    "        \n",
    "        self._grid[loc] = None\n",
    "        \n",
    "    def biota(self):\n",
    "        ''' The method biota returns the contents of all the cells\n",
    "        within the grid\n",
    "        '''\n",
    "        log(self._grid)\n",
    "        life = []\n",
    "        for obj in self._grid.flat:\n",
    "            if obj != None:\n",
    "                life.append(obj)\n",
    "        \n",
    "        return life"
   ]
  },
  {
   "cell_type": "markdown",
   "metadata": {},
   "source": [
    "##### <span style=\"color:red\">Tests:</span>"
   ]
  },
  {
   "cell_type": "markdown",
   "metadata": {},
   "source": [
    "Use the following code cell as a \"sandbox\" if you want to do your own tests.  You can add additional cells here if you want."
   ]
  },
  {
   "cell_type": "code",
   "execution_count": null,
   "metadata": {
    "collapsed": false
   },
   "outputs": [],
   "source": []
  },
  {
   "cell_type": "markdown",
   "metadata": {},
   "source": [
    "##### <span style=\"color:red\">Autograder Tests:</span>"
   ]
  },
  {
   "cell_type": "markdown",
   "metadata": {},
   "source": [
    "**Important:** &nbsp;  the code cells in this section will be used by `nbgrader` to run automated tests.  Do not move, delete or alter these cells in any way."
   ]
  },
  {
   "cell_type": "code",
   "execution_count": 4,
   "metadata": {
    "collapsed": false,
    "deletable": false,
    "editable": false,
    "nbgrader": {
     "checksum": "6cc270c952eb97c51252a67453d9bd65",
     "grade": true,
     "grade_id": "world_test_1",
     "locked": true,
     "points": 1,
     "schema_version": 1,
     "solution": false
    }
   },
   "outputs": [],
   "source": [
    "# A new world has no objects\n",
    "w0 = World(5,5)\n",
    "\n",
    "assert len(w0.biota()) == 0"
   ]
  },
  {
   "cell_type": "code",
   "execution_count": 5,
   "metadata": {
    "collapsed": true,
    "deletable": false,
    "editable": false,
    "nbgrader": {
     "checksum": "84e27b202311eb8632a14eba67a0faf7",
     "grade": true,
     "grade_id": "world_test_2",
     "locked": true,
     "points": 2,
     "schema_version": 1,
     "solution": false
    }
   },
   "outputs": [],
   "source": [
    "# Test the add and fetch operators\n",
    "w1 = World(5,5)\n",
    "\n",
    "w1.add('hello', (0,0))\n",
    "w1.add('world', (1,1))\n",
    "\n",
    "assert w1.fetch((0,0)) == 'hello'\n",
    "assert w1.fetch((1,1)) == 'world'"
   ]
  },
  {
   "cell_type": "code",
   "execution_count": 6,
   "metadata": {
    "collapsed": false,
    "deletable": false,
    "editable": false,
    "nbgrader": {
     "checksum": "f4d1eb934d8521ec608a3fe11d47f84b",
     "grade": true,
     "grade_id": "world_test_3",
     "locked": true,
     "points": 2,
     "schema_version": 1,
     "solution": false
    }
   },
   "outputs": [],
   "source": [
    "# Test the remove and biota methods\n",
    "w2 = World(5,5)\n",
    "\n",
    "w2.add('hello', (0,0))\n",
    "w2.add('world', (1,1))\n",
    "\n",
    "assert sorted(w2.biota()) == ['hello','world']\n",
    "\n",
    "w2.remove('hello', (0,0))\n",
    "w2.remove('world', (1,1))\n",
    "\n",
    "assert w2.biota() == []"
   ]
  },
  {
   "cell_type": "markdown",
   "metadata": {},
   "source": [
    "##### <span style=color:red>Documentation</span> "
   ]
  },
  {
   "cell_type": "markdown",
   "metadata": {},
   "source": [
    "**Important** Write your documentation in the following markdown cell.  Do not delete or move this cell."
   ]
  },
  {
   "cell_type": "markdown",
   "metadata": {
    "deletable": false,
    "nbgrader": {
     "checksum": "01f3afaf338295648a9e34f9ecbb2a59",
     "grade": true,
     "grade_id": "world_doc",
     "locked": false,
     "points": 5,
     "schema_version": 1,
     "solution": true
    }
   },
   "source": [
    "The World class is initialized with the instance variables x,y, and grid. The x and y are passed to the grid to make an array that's saved in our grid instance variable so that it can be referenced by\n",
    "methods later. \n",
    "setitem and getitem were also added to our World object so that it \n",
    "could be indexed and items in the object could be set to other values.\n",
    "The rest of the methods were defined and documented above.\n",
    "add, fetch, remove, and biota.\n",
    "Along with getter methods for our x and y instance variables."
   ]
  },
  {
   "cell_type": "markdown",
   "metadata": {
    "collapsed": true
   },
   "source": [
    "## <span style=\"color:teal;\">Fish and Bears</span>"
   ]
  },
  {
   "cell_type": "markdown",
   "metadata": {},
   "source": [
    "To run a simulation we need to add a random collection of animals to the world.  The two types of animals in this simulation are fish and bears, and you will write class definitions named Fish and Bear that implement the behaviors of the animals."
   ]
  },
  {
   "cell_type": "markdown",
   "metadata": {},
   "source": [
    "### Fish Class"
   ]
  },
  {
   "cell_type": "markdown",
   "metadata": {},
   "source": [
    "During the simulation a Fish object needs to behave as follows:\n",
    "\n",
    "(1) Fish are susceptible to overcrowding:  if there are fish in 2 or more neighboring cells the fish dies (it's removed from the simulation)\n",
    "\n",
    "(2) A fish can reproduce if it has been alive for a certain number of time steps: a random neighboring cell is chosen, and if that cell is empty, a new fish is placed in that cell\n",
    "\n",
    "(3) A fish can move to another cell:  it picks a random direction, and if the neighboring cell in that direction is unoccupied the fish moves there\n",
    "\n",
    "The constructor for the Fish class will be passed a reference to a World object and a location, in the form of a tuple with a row number and column number (the object needs to know its location so it can look for other objects in neighboring cells).\n",
    "\n",
    "The class should include the following methods:\n",
    "* `live` implements rules 1 and 2 shown above\n",
    "* `move` implements rule 3\n",
    "* `location` returns the current grid location (row and column) of the object\n",
    "\n",
    "Define a class variable named `breed_interval` to specify how many time steps a fish must be alive before it reproduces; the initial value for this variable is 12.\n"
   ]
  },
  {
   "cell_type": "markdown",
   "metadata": {},
   "source": [
    "### Bear Class"
   ]
  },
  {
   "cell_type": "markdown",
   "metadata": {},
   "source": [
    "During the simulation a Bear object needs to behave as follows:\n",
    "\n",
    "(1) A bear looks for fish in each adjacent cell; if it finds one or more fish it eats one at random \n",
    "\n",
    "(2) If a bear has not eaten for certain number of time steps it dies (it's removed from the simulation)\n",
    "\n",
    "(3) A bear can reproduce if it has been alive for a certain number of time steps: a random neighboring cell is chosen, and if that cell is empty, a new bear is placed in that cell\n",
    "\n",
    "(4) A bear can move to another cell:  it picks a random direction, and if the neighboring cell in that direction is unoccupied the bear moves there\n",
    "\n",
    "Define a class variable named `breed_interval` to specify how many time steps a bear must be alive before it reproduces; the initial value for this variable is 8.  Define another class variable named `survive_without_food` to be the number of time steps a bear can live before it dies from starvation; the initial value for this variable is 10.\n",
    "\n",
    "The constructor will be passed a reference to a World object and a location, in the form of a tuple with a row number and column number (the object needs to know its location so it can look for other objects in neighboring cells).\n",
    "\n",
    "The class should include the following methods:\n",
    "* `live` implements rules 1, 2, and 3 shown above\n",
    "* `move` implements rule 4\n",
    "* `location` returns the current grid location (row and column) of the object"
   ]
  },
  {
   "cell_type": "markdown",
   "metadata": {},
   "source": [
    "### Animal (Base Class)?"
   ]
  },
  {
   "cell_type": "markdown",
   "metadata": {},
   "source": [
    "From the descriptions above it should be apparent that fish and bears have some things in common.\n",
    "\n",
    "For **full credit** on the coding and documnetation portions of this project you should define a class named Animal and use it as the base class for your Fish and Bear classes.  Some things to think about as you design your classes:\n",
    "* are there behaviors or operations that are common to both and that can be implemented just once in Animal?\n",
    "* perhaps a behavior or operation can be defined with a default in the Animal class, and then overridden in the derived class?\n",
    "\n",
    "You can still receive **partial credit** if you skip the Animal class and simply write completely separate Fish and Bear classes.  None of the unit tests assume there is a class named Animal."
   ]
  },
  {
   "cell_type": "markdown",
   "metadata": {},
   "source": [
    "### Details and Hints"
   ]
  },
  {
   "cell_type": "markdown",
   "metadata": {},
   "source": [
    "**Incremental Development:**  One strategy you might consider is to write a complete implementation for one class, either Bear or Fish.  After you have debugged the class and it passes its unit tests you'll have a better idea of what to implement in the other class.  Then you can start moving common behaviors to the Animal class while you are writing the other derived class.\n",
    "\n",
    "**Fish:** &nbsp; The way the simulation is defined a fish might be eaten before the top level simulation calls the `live` method.  Your `live` method should check to make sure the fish is still alive.  The easiest way to do this is to include an instance variable named `_alive` that is set to True when the fish is initialized and set to False when it dies.\n",
    "\n",
    "You can have additional instance methods, class variables, or class methods.  Make sure you describe any new additions in the documentation.\n",
    "\n",
    "**Animal:** &nbsp; Keep this in mind when you design the class hierarchy: every object has an attribute named ``__class__`` (with two underscores before and after the name).  It is a reference to the class an object was defined with.  As an example of how to use it, consider what would happen if we want to define `reproduce` in the Animal class so it is inherited by both Fish and Bear classes.  We need to know the value of `breed_interval` in each object's own class.  We can find this value using the expression\n",
    "```\n",
    "self.__class__.breed_interval\n",
    "```\n",
    "This will be a reference to `Fish.breed_interval` or `Bear.breed_interval`, depending on whether a `reproduce` was called with Fish object or Bear object.\n"
   ]
  },
  {
   "cell_type": "markdown",
   "metadata": {
    "collapsed": true
   },
   "source": [
    "### <span style=\"color:teal;\">Animal (15 points)</span>"
   ]
  },
  {
   "cell_type": "markdown",
   "metadata": {},
   "source": [
    "##### <span style=color:red>Code</span> "
   ]
  },
  {
   "cell_type": "markdown",
   "metadata": {},
   "source": [
    "If you implement the Animal class write the definition in the following code cell\n",
    "\n",
    "**Important:** &nbsp; Do not delete or move this cell."
   ]
  },
  {
   "cell_type": "code",
   "execution_count": 7,
   "metadata": {
    "collapsed": false,
    "deletable": false,
    "nbgrader": {
     "checksum": "3ab9549a288942d068326e50e49d4d3e",
     "grade": true,
     "grade_id": "animal",
     "locked": false,
     "points": 10,
     "schema_version": 1,
     "solution": true
    }
   },
   "outputs": [],
   "source": [
    "class Animal:\n",
    "    ''' The Animal class is a object that can either be inheritted by the\n",
    "    Bear or Fish class. This class encompasses all the shared instance\n",
    "    variables and methods between our Bear and Fish classes.\n",
    "    '''\n",
    "    \n",
    "    def __init__(self, world, location):\n",
    "        ''' This constructor intializes the object to be living, the\n",
    "        breeding interval of an animal, the location of that animal\n",
    "        on the grid world, and the time the animal has been alive.\n",
    "        '''\n",
    "        \n",
    "        self._grid = world\n",
    "        self._alive = True\n",
    "        self._loc = location\n",
    "        self._time_alive = 0\n",
    "        self._grid.add(self, location)\n",
    "        \n",
    "    def reproduce(self):\n",
    "        ''' This function checks the amount of time steps the object\n",
    "        has been alive and compares the value to the objects breed_interval.\n",
    "        If the amount of time steps is greater then the object chooses a\n",
    "        random cell using a callback function, if the cell is empty the \n",
    "        animal reproduces.\n",
    "        '''\n",
    "        log('reproducing')\n",
    "        loc = self.random_loc()\n",
    "        if (self.__class__.breed_interval <= self._time_alive) and (self._grid.fetch(loc) == 'None'):\n",
    "            self.__class__(self._grid, loc)\n",
    "        \n",
    "        \n",
    "    def move(self):\n",
    "        ''' This method checks a randomly picked neighboring cell, using\n",
    "        a reference to the method random_loc, of the object and determines\n",
    "        if the checked cell is occupied, if not the object moves to that \n",
    "        location, otherwise the object does not moce.\n",
    "        '''\n",
    "        loc = self.random_loc()\n",
    "        if self._grid.fetch(loc) == 'None':\n",
    "            self._loc = loc\n",
    "        \n",
    "        \n",
    "    def location(self):\n",
    "        ''' This method returns the grid location as a tuple (row and column)\n",
    "        of the object\n",
    "        '''\n",
    "        \n",
    "        return self._loc\n",
    "    \n",
    "    \n",
    "    def random_loc(self):\n",
    "        ''' This method generates a random location and returns the value\n",
    "        so that it can be used as a callback for other methods\n",
    "        '''\n",
    "        x = random.randint(self._loc[0]-1, self._loc[0]+1)\n",
    "        y = random.randint(self._loc[1]-1, self._loc[1]+1)\n",
    "        \n",
    "        return (x,y)\n",
    "    \n",
    "    def f_neighbors(self):\n",
    "        ''' This method counts the number of Fish objects neighboring'''\n",
    "        \n",
    "        \n",
    "        locations = [(self._loc[0]-1,self._loc[1]), (self._loc[0]-1,self._loc[1]+1), (self._loc[0]-1,self._loc[1]-1), (self._loc[0],self._loc[1]+1), (self._loc[0],self._loc[1]-1), (self._loc[0]+1,self._loc[1]), (self._loc[0]+1,self._loc[1]+1), (self._loc[0]+1,self._loc[1]-1)]\n",
    "        fish = 0\n",
    "        for loc in locations:\n",
    "            log(self._grid.fetch(loc))\n",
    "            if self._grid.fetch(loc) == Fish.__class__:\n",
    "                log('Fish at {}'.format(loc))\n",
    "                fish = fish + 1\n",
    "        log(fish)\n",
    "        return fish\n",
    "                          \n",
    "                          \n",
    "                          "
   ]
  },
  {
   "cell_type": "markdown",
   "metadata": {},
   "source": [
    "##### <span style=\"color:red\">Tests:</span>"
   ]
  },
  {
   "cell_type": "markdown",
   "metadata": {},
   "source": [
    "There are **no unit tests for the Animal class.**  If you implement this class it will be tested automatically as part of the unit tests for Bear and Fish.\n",
    "\n",
    "You can still make your own tests of the base class if you wish.  Add expressions that create and test Animal objects to the following \"sandbox\" cells."
   ]
  },
  {
   "cell_type": "code",
   "execution_count": null,
   "metadata": {
    "collapsed": true
   },
   "outputs": [],
   "source": []
  },
  {
   "cell_type": "markdown",
   "metadata": {},
   "source": [
    "##### <span style=color:red>Documentation</span> "
   ]
  },
  {
   "cell_type": "markdown",
   "metadata": {},
   "source": [
    "If you implement the Animal class write your documentation in the following markdown cell.  \n",
    "\n",
    "**Important** Do not delete or move this cell."
   ]
  },
  {
   "cell_type": "markdown",
   "metadata": {
    "deletable": false,
    "nbgrader": {
     "checksum": "a392aca77c7d06ae61b2854cb8aa25e7",
     "grade": true,
     "grade_id": "animal_doc",
     "locked": false,
     "points": 5,
     "schema_version": 1,
     "solution": true
    }
   },
   "source": [
    "The Animal class encompasses all the shared attributes and methods of the Bear and Fish classes. Such as whether or not the animal is alive, the grid world the animal is placed within, the time the animal has been alive, and the location within the grid.\n",
    "The methods include location, move, reproduce, and two of my own methods f_neighbors and random_loc. f_neighbors calculates the number of fish objects near the objects location and random_loc picks a random location adjacent to the object and returns the tuple of coordinates. "
   ]
  },
  {
   "cell_type": "markdown",
   "metadata": {
    "collapsed": true
   },
   "source": [
    "### <span style=\"color:teal;\">Fish (20 points)</span>"
   ]
  },
  {
   "cell_type": "markdown",
   "metadata": {},
   "source": [
    "##### <span style=color:red>Code</span> "
   ]
  },
  {
   "cell_type": "markdown",
   "metadata": {},
   "source": [
    "**Important:** &nbsp; Write the Python code for your Fish class in the following code cell.  Do not delete or move this cell."
   ]
  },
  {
   "cell_type": "code",
   "execution_count": 8,
   "metadata": {
    "collapsed": true,
    "deletable": false,
    "nbgrader": {
     "checksum": "e370f19380738e8e035b8a3de3696caa",
     "grade": true,
     "grade_id": "fish",
     "locked": false,
     "points": 7,
     "schema_version": 1,
     "solution": true
    }
   },
   "outputs": [],
   "source": [
    "class Fish(Animal):\n",
    "    ''' The Fish class constructs an object that is placed randomly on\n",
    "    a grid that's a World object. The Fish object starts out alive and \n",
    "    can move, breed, and of course die by overcrowding or by being eaten\n",
    "    by a Bear object.\n",
    "    '''\n",
    "    \n",
    "    breed_interval = 12\n",
    "    \n",
    "    def __init__(self, world, location):\n",
    "        ''' This method inherits from the Animal class and utilizes the\n",
    "        the Animal constructor and initializes the breed interval specific\n",
    "        to the Fish object.\n",
    "        '''\n",
    "        \n",
    "        Animal.__init__(self, world, location)\n",
    "        self._label = 'Fish'\n",
    "        \n",
    "    def __repr__(self):\n",
    "        \n",
    "        return self._label\n",
    "    \n",
    "    def live(self):\n",
    "        ''' This method checks for overcrowding of other fish and \n",
    "        also references the Animal class method reproduce.\n",
    "        '''\n",
    "        self._time_alive += 1\n",
    "        \n",
    "        if self.f_neighbors() > 1:\n",
    "            self._alive = False\n",
    "            self._grid.remove(self._grid.fetch(self._loc), self._loc)\n",
    "            return\n",
    "        \n",
    "        self.reproduce()\n",
    "        \n",
    "        \n",
    "        "
   ]
  },
  {
   "cell_type": "markdown",
   "metadata": {},
   "source": [
    "##### <span style=\"color:red\">Tests:</span>"
   ]
  },
  {
   "cell_type": "markdown",
   "metadata": {},
   "source": [
    "Use the following code cell as a \"sandbox\" if you want to do your own tests.  You can add additional cells here if you want."
   ]
  },
  {
   "cell_type": "code",
   "execution_count": null,
   "metadata": {
    "collapsed": false
   },
   "outputs": [],
   "source": []
  },
  {
   "cell_type": "markdown",
   "metadata": {},
   "source": [
    "##### <span style=\"color:red\">Autograder Tests:</span>"
   ]
  },
  {
   "cell_type": "markdown",
   "metadata": {},
   "source": [
    "**Important:** &nbsp;  the code cells in this section will be used by `nbgrader` to run automated tests.  Do not move, delete or alter these cells in any way."
   ]
  },
  {
   "cell_type": "code",
   "execution_count": 9,
   "metadata": {
    "collapsed": false,
    "deletable": false,
    "editable": false,
    "nbgrader": {
     "checksum": "fae00be4f7fe413602a94b30d590c08c",
     "grade": true,
     "grade_id": "fish_test_1",
     "locked": true,
     "points": 2,
     "schema_version": 1,
     "solution": false
    }
   },
   "outputs": [],
   "source": [
    "# A new world has no objects\n",
    "fw1 = World(5,5)\n",
    "assert len(fw1.biota()) == 0\n",
    "\n",
    "# After adding a fish there should be one object\n",
    "f1 = Fish(fw1, (2,2))\n",
    "assert len(fw1.biota()) == 1\n",
    "\n",
    "# Test the location method\n",
    "assert f1.location() == (2,2)"
   ]
  },
  {
   "cell_type": "code",
   "execution_count": 10,
   "metadata": {
    "collapsed": false,
    "deletable": false,
    "editable": false,
    "nbgrader": {
     "checksum": "5d2282142a347d36b86d7bc1e718bf08",
     "grade": true,
     "grade_id": "fish_test_2",
     "locked": true,
     "points": 2,
     "schema_version": 1,
     "solution": false
    },
    "scrolled": true
   },
   "outputs": [
    {
     "ename": "AssertionError",
     "evalue": "",
     "output_type": "error",
     "traceback": [
      "\u001b[0;31m---------------------------------------------------------------------------\u001b[0m",
      "\u001b[0;31mAssertionError\u001b[0m                            Traceback (most recent call last)",
      "\u001b[0;32m<ipython-input-10-7cce60d68f23>\u001b[0m in \u001b[0;36m<module>\u001b[0;34m()\u001b[0m\n\u001b[1;32m      4\u001b[0m \u001b[0mf2\u001b[0m \u001b[0;34m=\u001b[0m \u001b[0mFish\u001b[0m\u001b[0;34m(\u001b[0m\u001b[0mfw2\u001b[0m\u001b[0;34m,\u001b[0m \u001b[0;34m(\u001b[0m\u001b[0;36m2\u001b[0m\u001b[0;34m,\u001b[0m\u001b[0;36m2\u001b[0m\u001b[0;34m)\u001b[0m\u001b[0;34m)\u001b[0m\u001b[0;34m\u001b[0m\u001b[0m\n\u001b[1;32m      5\u001b[0m \u001b[0mf2\u001b[0m\u001b[0;34m.\u001b[0m\u001b[0mlive\u001b[0m\u001b[0;34m(\u001b[0m\u001b[0;34m)\u001b[0m\u001b[0;34m\u001b[0m\u001b[0m\n\u001b[0;32m----> 6\u001b[0;31m \u001b[0;32massert\u001b[0m \u001b[0mlen\u001b[0m\u001b[0;34m(\u001b[0m\u001b[0mfw2\u001b[0m\u001b[0;34m.\u001b[0m\u001b[0mbiota\u001b[0m\u001b[0;34m(\u001b[0m\u001b[0;34m)\u001b[0m\u001b[0;34m)\u001b[0m \u001b[0;34m==\u001b[0m \u001b[0;36m2\u001b[0m\u001b[0;34m\u001b[0m\u001b[0m\n\u001b[0m\u001b[1;32m      7\u001b[0m \u001b[0;34m\u001b[0m\u001b[0m\n\u001b[1;32m      8\u001b[0m \u001b[0;31m# Reset the interval to original value for remaining tests\u001b[0m\u001b[0;34m\u001b[0m\u001b[0;34m\u001b[0m\u001b[0m\n",
      "\u001b[0;31mAssertionError\u001b[0m: "
     ]
    }
   ],
   "source": [
    "# Setting breed_interval to 1 should cause a fish to reproduce when live is called\n",
    "fw2 = World(5,5)\n",
    "Fish.breed_interval = 1\n",
    "f2 = Fish(fw2, (2,2))\n",
    "f2.live()\n",
    "assert len(fw2.biota()) == 2\n",
    "\n",
    "# Reset the interval to original value for remaining tests\n",
    "Fish.breed_interval = 12"
   ]
  },
  {
   "cell_type": "code",
   "execution_count": null,
   "metadata": {
    "collapsed": false,
    "deletable": false,
    "editable": false,
    "nbgrader": {
     "checksum": "53e0450a407237272e2d46ede7f45d96",
     "grade": true,
     "grade_id": "fish_test_3",
     "locked": true,
     "points": 2,
     "schema_version": 1,
     "solution": false
    }
   },
   "outputs": [],
   "source": [
    "# Make three fish, the one in the middle should die from overcrowding\n",
    "fw3 = World(5,5)\n",
    "f3 = Fish(fw3, (2,2))\n",
    "Fish(fw3, (1,1))\n",
    "Fish(fw3, (3,3))\n",
    "f3.live()\n",
    "assert len(fw3.biota()) == 2"
   ]
  },
  {
   "cell_type": "code",
   "execution_count": null,
   "metadata": {
    "collapsed": false,
    "deletable": false,
    "editable": false,
    "nbgrader": {
     "checksum": "4f8e85b525f60697dcf3e4e8f08c9861",
     "grade": true,
     "grade_id": "fish_test_4",
     "locked": true,
     "points": 2,
     "schema_version": 1,
     "solution": false
    }
   },
   "outputs": [],
   "source": [
    "# When a fish moves it should be within one cell of its original location\n",
    "fw4 = World(5,5)\n",
    "f4 = Fish(fw4, (2,2))\n",
    "f4.move()\n",
    "r, c = f4.location()\n",
    "assert (r,c) != (2,2)\n",
    "assert abs(r-2) <= 1 and abs(c-2) <= 1"
   ]
  },
  {
   "cell_type": "markdown",
   "metadata": {},
   "source": [
    "##### <span style=color:red>Documentation</span> "
   ]
  },
  {
   "cell_type": "markdown",
   "metadata": {},
   "source": [
    "**Important:** &nbsp; Write the documentation for your Fish class in the following markdown cell.  Do not delete or move this cell."
   ]
  },
  {
   "cell_type": "markdown",
   "metadata": {
    "deletable": false,
    "nbgrader": {
     "checksum": "770b6a6bacc3948526ac069ce547b553",
     "grade": true,
     "grade_id": "fish_doc",
     "locked": false,
     "points": 5,
     "schema_version": 1,
     "solution": true
    }
   },
   "source": [
    "The Fish class inherits all the variables and methods from the previously created Animal class. I added a overload to the print statement and gave the fish object a label within the grid. The fish also has a class variable breed_interval that's unique to this class.\n",
    "The live method uses callback functions from our Animal class, such as reproduce and f_neighbors."
   ]
  },
  {
   "cell_type": "markdown",
   "metadata": {},
   "source": [
    "###  <span style=\"color:teal;\">Bear (20 points)</span>"
   ]
  },
  {
   "cell_type": "markdown",
   "metadata": {},
   "source": [
    "##### <span style=color:red>Code</span> "
   ]
  },
  {
   "cell_type": "markdown",
   "metadata": {},
   "source": [
    "**Important:** &nbsp; Write the Python code for your Bear class in the following code cell.  Do not delete or move this cell."
   ]
  },
  {
   "cell_type": "code",
   "execution_count": null,
   "metadata": {
    "collapsed": true,
    "deletable": false,
    "nbgrader": {
     "checksum": "4caa2fe98c36ad7d876cb07eb412314c",
     "grade": true,
     "grade_id": "bear",
     "locked": false,
     "points": 7,
     "schema_version": 1,
     "solution": true
    }
   },
   "outputs": [],
   "source": [
    "class Bear(Animal):\n",
    "    ''' The Fish class constructs an object that is placed randomly on\n",
    "    a grid that's a World object. The Fish object starts out alive and \n",
    "    can move, breed, and of course die by overcrowding or by being eaten\n",
    "    by a Bear object.\n",
    "    '''\n",
    "    \n",
    "    breed_interval = 8\n",
    "    survive_without_food = 10\n",
    "    \n",
    "    def __init__(self, world, location):\n",
    "        ''' This method inherits from the Animal class and utilizes the\n",
    "        the Animal constructor and initializes the breed interval specific\n",
    "        to the Fish object.\n",
    "        '''\n",
    "        \n",
    "        Animal.__init__(self, world, location)\n",
    "        self._label = 'Bear'\n",
    "    \n",
    "        \n",
    "    def __repr__(self):\n",
    "        \n",
    "        return self._label\n",
    "    \n",
    "    def live(self):\n",
    "        ''' This method checks for overcrowding of other fish and \n",
    "        also references the Animal class method reproduce.\n",
    "        '''\n",
    "        self._time_alive += 1\n",
    "        \n",
    "        if self.f_neighbors() > 1:\n",
    "            locations = [(self._loc[0]-1,self._loc[1]), (self._loc[0]-1,self._loc[1]+1), (self._loc[0]-1,self._loc[1]-1), (self._loc[0],self._loc[1]+1), (self._loc[0],self._loc[1]-1), (self._loc[0]+1,self._loc[1]), (self._loc[0]+1,self._loc[1]+1), (self._loc[0]+1,self._loc[1]-1)]\n",
    "            f_locs = []\n",
    "            for loc in locations:\n",
    "                if self._grid.fetch(loc) == Fish.__class__:\n",
    "                    f_locs.append(loc)\n",
    "                    \n",
    "            choice = random.choice(f_locs)\n",
    "            self._grid.remove(self._grid.fetch(choice), choice)\n",
    "            self.survive_without_food = 10\n",
    "        \n",
    "        self.survive_without_food -= 1\n",
    "        self.reproduce()\n",
    "        \n",
    "        "
   ]
  },
  {
   "cell_type": "markdown",
   "metadata": {},
   "source": [
    "##### <span style=\"color:red\">Tests:</span>"
   ]
  },
  {
   "cell_type": "markdown",
   "metadata": {},
   "source": [
    "Use the following code cell as a \"sandbox\" if you want to do your own tests.  You can add additional cells here if you want."
   ]
  },
  {
   "cell_type": "code",
   "execution_count": null,
   "metadata": {
    "collapsed": true
   },
   "outputs": [],
   "source": []
  },
  {
   "cell_type": "markdown",
   "metadata": {},
   "source": [
    "##### <span style=\"color:red\">Autograder Tests:</span>"
   ]
  },
  {
   "cell_type": "markdown",
   "metadata": {},
   "source": [
    "**Important:** &nbsp;  the code cells in this section will be used by `nbgrader` to run automated tests.  Do not move, delete or alter these cells in any way."
   ]
  },
  {
   "cell_type": "code",
   "execution_count": null,
   "metadata": {
    "collapsed": true,
    "deletable": false,
    "editable": false,
    "nbgrader": {
     "checksum": "aae25b64e80339920b2b6550d47f6c85",
     "grade": true,
     "grade_id": "bear_test_1",
     "locked": true,
     "points": 2,
     "schema_version": 1,
     "solution": false
    }
   },
   "outputs": [],
   "source": [
    "# Test the Bear constructor and location method\n",
    "bw1 = World(5,5)\n",
    "b1 = Bear(bw1, (1,1))\n",
    "assert len(bw1.biota()) == 1\n",
    "assert b1.location() == (1,1)"
   ]
  },
  {
   "cell_type": "code",
   "execution_count": null,
   "metadata": {
    "collapsed": true,
    "deletable": false,
    "editable": false,
    "nbgrader": {
     "checksum": "e64012b3bc5e3d932dbff83f72102a52",
     "grade": true,
     "grade_id": "bear_test_2",
     "locked": true,
     "points": 2,
     "schema_version": 1,
     "solution": false
    },
    "scrolled": true
   },
   "outputs": [],
   "source": [
    "# Repeat the reproduction test for Bears\n",
    "bw2 = World(5,5)\n",
    "Bear.breed_interval = 1\n",
    "b2 = Bear(bw2, (2,2))\n",
    "b2.live()\n",
    "assert len(bw2.biota()) == 2\n",
    "Bear.breed_interval = 8"
   ]
  },
  {
   "cell_type": "code",
   "execution_count": null,
   "metadata": {
    "collapsed": true,
    "deletable": false,
    "editable": false,
    "nbgrader": {
     "checksum": "5412f977900e48901b9405e95271b2bf",
     "grade": true,
     "grade_id": "bear_test_3",
     "locked": true,
     "points": 2,
     "schema_version": 1,
     "solution": false
    }
   },
   "outputs": [],
   "source": [
    "# Make fish for the bear to eat, count the number of objects after eating\n",
    "bw3 = World(5,5)\n",
    "b3 = Bear(bw3, (2,2))\n",
    "Fish(bw3, (1,1))\n",
    "Fish(bw3, (3,3))\n",
    "b3.live()\n",
    "assert len(bw3.biota()) == 2"
   ]
  },
  {
   "cell_type": "code",
   "execution_count": null,
   "metadata": {
    "collapsed": true,
    "deletable": false,
    "editable": false,
    "nbgrader": {
     "checksum": "5b79fa59932c1f2443793c63405fd91e",
     "grade": true,
     "grade_id": "bear_test_4",
     "locked": true,
     "points": 2,
     "schema_version": 1,
     "solution": false
    }
   },
   "outputs": [],
   "source": [
    "# Setting the survival limit to 1 should cause a Bear to starve \n",
    "bw4 = World(5,5)\n",
    "Bear.survive_without_food = 1\n",
    "b4 = Bear(bw4, (2,2))\n",
    "b4.live()\n",
    "assert len(bw4.biota()) == 0\n",
    "Bear.survive_without_food = 10"
   ]
  },
  {
   "cell_type": "code",
   "execution_count": null,
   "metadata": {
    "collapsed": true,
    "deletable": false,
    "editable": false,
    "nbgrader": {
     "checksum": "6de47b3ebef44d9eaa744094851d38c8",
     "grade": true,
     "grade_id": "bear_test_5",
     "locked": true,
     "points": 2,
     "schema_version": 1,
     "solution": false
    }
   },
   "outputs": [],
   "source": [
    "# Repeat the move test for bears\n",
    "bw5 = World(5,5)\n",
    "b5 = Bear(bw5, (2,2))\n",
    "b5.move()\n",
    "r, c = b5.location()\n",
    "assert (r,c) != (2,2)\n",
    "assert abs(r-2) <= 1 and abs(c-2) <= 1"
   ]
  },
  {
   "cell_type": "markdown",
   "metadata": {},
   "source": [
    "##### <span style=color:red>Documentation</span> "
   ]
  },
  {
   "cell_type": "markdown",
   "metadata": {},
   "source": [
    "**Important:** &nbsp; Write the documentation for your Bear class in the following markdown cell.  Do not delete or move this cell."
   ]
  },
  {
   "cell_type": "markdown",
   "metadata": {
    "deletable": false,
    "nbgrader": {
     "checksum": "745360994a43da361e98fe01baa7f1c2",
     "grade": true,
     "grade_id": "bear_doc",
     "locked": false,
     "points": 3,
     "schema_version": 1,
     "solution": true
    }
   },
   "source": [
    "The Bear class inherits all the variables and methods from the previously created Animal class. I added a overload to the print statement and gave the bear object a label within the grid. The bear also has a class variable breed_interval and survive_withoout_food that's unique to this class.\n",
    "The live method uses callback functions from our Animal class, such as reproduce and f_neighbors."
   ]
  },
  {
   "cell_type": "markdown",
   "metadata": {
    "collapsed": true
   },
   "source": [
    "##  <span style=\"color:teal;\">The `wbf` Function (15 points)</span>"
   ]
  },
  {
   "cell_type": "markdown",
   "metadata": {},
   "source": [
    "Fill in the body of the `wbf` function so it returns a new World object with the specified number of rows and columns and with the specified number of Bear and Fish objects at random locations.\n",
    "\n",
    "When we grade your project we will call `wbf` to make a World object and then use the main loop (implemented by `step_system`) to run the simulation."
   ]
  },
  {
   "cell_type": "code",
   "execution_count": null,
   "metadata": {
    "collapsed": true,
    "deletable": false,
    "nbgrader": {
     "checksum": "564fd80eb200839287efb2cff08097ef",
     "grade": true,
     "grade_id": "wbf",
     "locked": false,
     "points": 9,
     "schema_version": 1,
     "solution": true
    }
   },
   "outputs": [],
   "source": [
    "def wbf(nrows, ncols, nbears, nfish):\n",
    "    ''' This function creates and saves our world in a variable grid\n",
    "    then uses while loops to ensure that the bear and fish are placed in \n",
    "    empty cells throughout the grid at random locations.\n",
    "    '''\n",
    "    \n",
    "    grid = World(nrows,ncols)\n",
    "    n = nbears\n",
    "    while n >= nbears:\n",
    "        x = random.randint(0, nrows)\n",
    "        y = random.randint(0, ncols)\n",
    "        if grid.fetch(x,y) == None:\n",
    "            grid.add(Bear(grid,(x,y)),(x,y))\n",
    "            n -= 1\n",
    "            \n",
    "    m = nfish\n",
    "    while m >= nfish:\n",
    "        x = random.randint(0, nrows)\n",
    "        y = random.randint(0, ncols)\n",
    "        if grid.fetch(x,y) == None:\n",
    "            grid.add(Fish(grid,(x,y)),(x,y))\n",
    "            n -= 1\n",
    "            \n",
    "        "
   ]
  },
  {
   "cell_type": "markdown",
   "metadata": {},
   "source": [
    "##### <span style=\"color:red\">Tests:</span>"
   ]
  },
  {
   "cell_type": "markdown",
   "metadata": {},
   "source": [
    "Use the following code cell as a \"sandbox\" if you want to do your own tests.  You can add additional cells here if you want."
   ]
  },
  {
   "cell_type": "code",
   "execution_count": null,
   "metadata": {
    "collapsed": true
   },
   "outputs": [],
   "source": []
  },
  {
   "cell_type": "markdown",
   "metadata": {},
   "source": [
    "##### <span style=\"color:red\">Autograder Tests:</span>"
   ]
  },
  {
   "cell_type": "markdown",
   "metadata": {},
   "source": [
    "**Important:** &nbsp;  the code cells in this section will be used by `nbgrader` to run automated tests.  Do not move, delete or alter these cells in any way."
   ]
  },
  {
   "cell_type": "code",
   "execution_count": null,
   "metadata": {
    "collapsed": true,
    "deletable": false,
    "editable": false,
    "nbgrader": {
     "checksum": "d46f3f598f19c9bd50c3d1999d2a080c",
     "grade": true,
     "grade_id": "wbf_test",
     "locked": true,
     "points": 3,
     "schema_version": 1,
     "solution": false
    }
   },
   "outputs": [],
   "source": [
    "w = wbf(10,10,3,12)\n",
    "\n",
    "dct = { Bear: 0, Fish: 0 }\n",
    "for x in w.biota():\n",
    "    dct[x.__class__] += 1\n",
    "\n",
    "assert dct[Bear] == 3\n",
    "assert dct[Fish] == 12"
   ]
  },
  {
   "cell_type": "markdown",
   "metadata": {},
   "source": [
    "##### <span style=color:red>Documentation</span> "
   ]
  },
  {
   "cell_type": "markdown",
   "metadata": {},
   "source": [
    "**Important:** &nbsp; Write the documentation for your `wbf` function in the following markdown cell.  Do not delete or move this cell."
   ]
  },
  {
   "cell_type": "markdown",
   "metadata": {
    "deletable": false,
    "nbgrader": {
     "checksum": "14872fdba29df6b85168b6ed26a9607e",
     "grade": true,
     "grade_id": "wbf_doc",
     "locked": false,
     "points": 3,
     "schema_version": 1,
     "solution": true
    }
   },
   "source": [
    "I used the World class to intialize the grid specific to the size given\n",
    "nrows by ncolumns. Then I used while loops with counters to add the bear and fish to the world at random locations. The loops also ensure that the bear and fish do not end up in overlapping cells."
   ]
  },
  {
   "cell_type": "markdown",
   "metadata": {
    "collapsed": true
   },
   "source": [
    "##  <span style=\"color:teal;\">The `step_system` Function</span>"
   ]
  },
  {
   "cell_type": "markdown",
   "metadata": {},
   "source": [
    "We've written this function for you.  It will run a single time step of the simulation.  Pass it a World object containing a grid populated with Bear and Fish objects and it will (a) see which animals survive, then (b) allow all the animals to move to a new location."
   ]
  },
  {
   "cell_type": "code",
   "execution_count": null,
   "metadata": {
    "collapsed": true
   },
   "outputs": [],
   "source": [
    "def step_system(world):\n",
    "    for x in world.biota():\n",
    "        x.live()\n",
    "    for x in world.biota():\n",
    "        x.move()"
   ]
  },
  {
   "cell_type": "markdown",
   "metadata": {},
   "source": [
    "The code cell below is an example of how to run a complete simulation.  Call `wbf` to make a World populated by Bear and Fish objects, and then run the simulation for some number of iterations.\n",
    "\n",
    "You can run this cell to do an \"integration test\" of your code.  You can also copy it and modify it for the exercises in the next section."
   ]
  },
  {
   "cell_type": "code",
   "execution_count": null,
   "metadata": {
    "collapsed": true
   },
   "outputs": [],
   "source": [
    "if IPython:\n",
    "    logging = True\n",
    "    w = wbf(10,10,3,12)\n",
    "    for i in range(3):\n",
    "        print(w)\n",
    "        step_system(w)"
   ]
  },
  {
   "cell_type": "markdown",
   "metadata": {
    "collapsed": true
   },
   "source": [
    "##  <span style=\"color:teal;\">Experiments (10 points)</span>"
   ]
  },
  {
   "cell_type": "markdown",
   "metadata": {},
   "source": [
    "Run some experiments with the top level simulation loop and describe the results in the markdown cell below.  Some ideas of things to try:\n",
    "* The settings for the Bear class `breed_interval` and `survive_without_food` variables come from the textbook.  Will the world ever run out of bears with these settings?\n",
    "* Change the settings so `Bear.breed_interval` is larger than `Bear.survive_without_food`.  How does that change the outcome?\n",
    "* Set the `breed_interval` counter for the Fish class to a smaller number (e.g. 4) so the world has more fish.  What effect does that have?\n",
    "* Write a function that runs the simulation for a specified number of generations, or until there are no more objects left in the grid.  What combination of parameters leads to the largest number of time steps before the simulation halts?"
   ]
  },
  {
   "cell_type": "markdown",
   "metadata": {
    "collapsed": true,
    "deletable": false,
    "nbgrader": {
     "checksum": "cc54d46b405cd1c694c7a930f2ede888",
     "grade": true,
     "grade_id": "experiments",
     "locked": false,
     "points": 10,
     "schema_version": 1,
     "solution": true
    }
   },
   "source": [
    "YOUR DOCUMENTATION HERE"
   ]
  },
  {
   "cell_type": "markdown",
   "metadata": {
    "collapsed": true
   },
   "source": [
    "##  <span style=\"color:teal;\">Extra Credit Ideas</span>"
   ]
  },
  {
   "cell_type": "markdown",
   "metadata": {},
   "source": [
    "Here are some suggestions for ways to extend the simulation.  We will consider other types of extensions -- send a request to `conery@uoregon.edu` with your proposal.\n",
    "\n",
    "* Implement the Plant class described in Section 10.7 of the textbook, and modify the Fish class so fish eat plants and die if they don't find enough food.\n",
    "\n",
    "* If you implement Plant, how does that affect the class hierarchy?  Is there an even more general class called Organism, with Plants and Animals subtypes of organism?\n",
    "\n",
    "* Experiment with data structures: make a second version of the World class, but use a list-of-lists approach to making the grid.  Which is more efficient, a list of lists or a numpy array?  Which scales better when larger worlds are used in the simulation?\n",
    "\n",
    "* Implement a GUI using `tkinter` that is similar to the Solar System GUI.  A canvas should display the world along with images for the Bear and Fish objects (you can download `Bear.gif` and `Fish.gif` from Canvas).  Use a spinbox or text entry box to specify the number of Bear and Fish objects and the number of time steps to run.  Include a Run button to start the simulation.\n"
   ]
  },
  {
   "cell_type": "code",
   "execution_count": null,
   "metadata": {
    "collapsed": true
   },
   "outputs": [],
   "source": []
  }
 ],
 "metadata": {
  "kernelspec": {
   "display_name": "Python 3",
   "language": "python",
   "name": "python3"
  },
  "language_info": {
   "codemirror_mode": {
    "name": "ipython",
    "version": 3
   },
   "file_extension": ".py",
   "mimetype": "text/x-python",
   "name": "python",
   "nbconvert_exporter": "python",
   "pygments_lexer": "ipython3",
   "version": "3.6.0"
  }
 },
 "nbformat": 4,
 "nbformat_minor": 1
}
