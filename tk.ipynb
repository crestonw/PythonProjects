{
 "cells": [
  {
   "cell_type": "markdown",
   "metadata": {},
   "source": [
    "# <span style=\"color:teal;\">CIS 211 Project 5:  Building GUIs with Tk</span>"
   ]
  },
  {
   "cell_type": "markdown",
   "metadata": {},
   "source": [
    "##### Due 11:00 P.M. Friday May 5"
   ]
  },
  {
   "cell_type": "markdown",
   "metadata": {},
   "source": [
    "Reading:\n",
    "* [TkDocs - Tk Tutorial](http://www.tkdocs.com/tutorial/index.html)\n",
    "* [Tkinter Tutorial](http://www.python-course.eu/python_tkinter.php) from `python-course.eu`"
   ]
  },
  {
   "cell_type": "markdown",
   "metadata": {},
   "source": [
    "### <span style=\"color:teal\">Setup</span>"
   ]
  },
  {
   "cell_type": "markdown",
   "metadata": {},
   "source": [
    "Execute the following code cell to tell IPython you want to create windows with Tk and to import the `tkinter` library."
   ]
  },
  {
   "cell_type": "code",
   "execution_count": 1,
   "metadata": {
    "collapsed": true
   },
   "outputs": [],
   "source": [
    "%gui tk\n",
    "import tkinter as tk"
   ]
  },
  {
   "cell_type": "markdown",
   "metadata": {},
   "source": [
    "<span style=\"color:red\">**Important:**</span> &nbsp; The autograder tests assume `tkinter` has been imported as shown above.  You should follow the same convention, and refer to widget classes as `tk.Label`, `tk.Entry`, and so on."
   ]
  },
  {
   "cell_type": "markdown",
   "metadata": {},
   "source": [
    "<span style=\"color:red\">**Important:**</span> &nbsp; The code cells where you define your GUIs contain assignment statements that create global variables.  For example, the first GUI is assigned to a variable named `hello_app`.  **Do not change these assignment statements**.  The autograder test cells will use these variables to access parts of your GUIs."
   ]
  },
  {
   "cell_type": "markdown",
   "metadata": {},
   "source": [
    "### <span style=\"color:teal\">1. &nbsp; Hello, World (10 points)</span>"
   ]
  },
  {
   "cell_type": "markdown",
   "metadata": {},
   "source": [
    "The code cell for this project has an assignment statement that creates a top level Tk application named `hello_app`.  \n",
    "\n",
    "Add statements to the code cell so the program has a label that says \"Hello, World\":\n",
    "\n",
    "<img src=\"http://www.cs.uoregon.edu/Classes/15S/cis211/images/hello_gui.png\"/>\n",
    "\n",
    "The example above uses 24-point Helvetica.  You can use the default text, but feel free to experiment with other fonts, font sizes, colors, *etc*.\n",
    "\n",
    "The goal for this part of the project is just to make sure you have all the necessary software installed and can create a simple application.  There is no documentation requirement for this part."
   ]
  },
  {
   "cell_type": "markdown",
   "metadata": {},
   "source": [
    "##### <span style=\"color:red\">Code:</span>"
   ]
  },
  {
   "cell_type": "code",
   "execution_count": 2,
   "metadata": {
    "collapsed": true,
    "deletable": false,
    "nbgrader": {
     "checksum": "aa5f23ecf0055cfa55cfa261bba403d5",
     "grade": true,
     "grade_id": "hello",
     "locked": false,
     "points": 4,
     "schema_version": 1,
     "solution": true
    }
   },
   "outputs": [],
   "source": [
    "hello_app = tk.Tk()\n",
    "label = tk.Label(hello_app, padx=20, pady=10, text='Hello, World!', font='Times 24 bold')\n",
    "label.pack()"
   ]
  },
  {
   "cell_type": "markdown",
   "metadata": {},
   "source": [
    "##### <span style=\"color:red\">Autograder Tests:</span>"
   ]
  },
  {
   "cell_type": "code",
   "execution_count": 3,
   "metadata": {
    "collapsed": false,
    "deletable": false,
    "editable": false,
    "nbgrader": {
     "checksum": "db85c1cb41e92f3992983a80a464eb44",
     "grade": true,
     "grade_id": "hello_test_1",
     "locked": true,
     "points": 2,
     "schema_version": 1,
     "solution": false
    }
   },
   "outputs": [],
   "source": [
    "# The GUI should have a single widget\n",
    "widgets = list(hello_app.children.values())\n",
    "assert len(widgets) == 1"
   ]
  },
  {
   "cell_type": "code",
   "execution_count": 4,
   "metadata": {
    "collapsed": true,
    "deletable": false,
    "editable": false,
    "nbgrader": {
     "checksum": "d6260633f1d629a41fd99c9921ef725f",
     "grade": true,
     "grade_id": "hello_test_2",
     "locked": true,
     "points": 2,
     "schema_version": 1,
     "solution": false
    }
   },
   "outputs": [],
   "source": [
    "# Check to see if the widget is a Label\n",
    "widgets = list(hello_app.children.values())\n",
    "assert isinstance(widgets[0], tk.Label)"
   ]
  },
  {
   "cell_type": "code",
   "execution_count": 5,
   "metadata": {
    "collapsed": true,
    "deletable": false,
    "editable": false,
    "nbgrader": {
     "checksum": "68bf6396648369410a689cd19b99b7c0",
     "grade": true,
     "grade_id": "hello_test_3",
     "locked": true,
     "points": 2,
     "schema_version": 1,
     "solution": false
    }
   },
   "outputs": [],
   "source": [
    "# The text in the label should start with \"hello\" (upper or lower case)\n",
    "widgets = list(hello_app.children.values())\n",
    "assert widgets[0]['text'].lower().startswith('hello')"
   ]
  },
  {
   "cell_type": "markdown",
   "metadata": {
    "collapsed": true
   },
   "source": [
    "### <span style=\"color:teal\">2. &nbsp; Payment Calculator (50 points)</span>"
   ]
  },
  {
   "cell_type": "markdown",
   "metadata": {},
   "source": [
    "Create a program that computes the monthly payment on a loan. The payment is a function of the loan amount, the annual interest rate, and the number of years to pay off the loan. To calculate the payment, first compute two values named $r$ and $p$, defined by these equations:\n",
    "\n",
    "$ r = ( \\textrm{rate} \\; / \\; 100 ) \\; / \\; 12 $\n",
    "\n",
    "$ p = 12 \\times \\textrm{years} $\n",
    "\n",
    "The monthly payment is then\n",
    "\n",
    "$$ \\textrm{payment} = \\frac{ r \\times \\textrm{amount} }{ 1 - (1 + r)^{-p} } $$\n",
    "\n",
    "For example, if you take out a 30-year loan for \\$150,000 at an annual rate of 4.5% your payment would be \\$760.03 per month.\n",
    "\n",
    "The GUI for this application should have four text entry boxes, and each box should have a label to its left that explains what the box holds.  The first three boxes are for the user to enter the loan amount, the interest rate, and the number of years to repay the loan. \n",
    "\n",
    "The GUI should have a button labeled “compute payment”. When the user clicks this button, your program should read the values of the three parameters, use the equations shown above to calculate the monthly payment, and display the payment amount in the fourth text entry box.\n",
    "\n",
    "<img src=\"http://www.cs.uoregon.edu/Classes/15S/cis211/images/payment_gui.png\"/>\n",
    "\n",
    "The code cell for this program has the outline for the program.  First fill in the body of the function named `monthly_payment` and make sure it computes the correct payment value given an amount, rate, and loan period.  When your write the button callback function have it call the `monthly_payment` function.\n",
    "\n",
    "Next add statements that create the labels, boxes, and button for the application.  When you create the Entry and Button widgets, make sure you save them in global variables with the following names so the autograder tests will succeed:\n",
    "* `amount`\n",
    "* `rate`\n",
    "* `years`\n",
    "* `payment`\n",
    "* `button`"
   ]
  },
  {
   "cell_type": "markdown",
   "metadata": {},
   "source": [
    "##### <span style=\"color:red\">Code:</span>"
   ]
  },
  {
   "cell_type": "code",
   "execution_count": 6,
   "metadata": {
    "collapsed": true,
    "deletable": false,
    "nbgrader": {
     "checksum": "eab526bb11e92e14ed91b981bfe85ca0",
     "grade": true,
     "grade_id": "payment",
     "locked": false,
     "points": 15,
     "schema_version": 1,
     "solution": true
    }
   },
   "outputs": [],
   "source": [
    "def monthly_payment(amt, pct, yrs):\n",
    "    '''(float, float, int) -> float\n",
    "    \n",
    "    '''\n",
    "    r = (pct/100)/12\n",
    "    p = 12 * yrs\n",
    "    pymt = round((r * amt)/(1 - pow((1 + r),(-p))), 2)\n",
    "    return pymt\n",
    "    \n",
    "\n",
    "def compute_payment_cb():\n",
    "    payment.delete(0, tk.END)\n",
    "    if (len(amount.get()) > 0) and (len(rate.get()) > 0) and (len(years.get()) > 0):\n",
    "        payment.delete(0, tk.END)\n",
    "        pymt = monthly_payment(float(amount.get()), float(rate.get()),int(years.get()))\n",
    "        payment.insert(0, '${:.2f}'.format(pymt))\n",
    "        return\n",
    "        \n",
    "    amount.delete(0, tk.END)\n",
    "    rate.delete(0, tk.END)\n",
    "    years.delete(0, tk.END)\n",
    "    return\n",
    "    \n",
    "    \n",
    "\n",
    "payment_app = tk.Tk()\n",
    "\n",
    "amount_label = tk.Label(payment_app, text='Loan Amount:',font='Times 12')\n",
    "amount_label.grid(row=0, column=0, sticky='W', padx=30, pady=10)\n",
    "\n",
    "amount = tk.Entry(payment_app, font='Times 12')\n",
    "amount.grid(row=0, column=1, sticky='E', padx=30, pady=10)\n",
    "\n",
    "rate_label = tk.Label(payment_app, text='Interest Rate:',font='Times 12')\n",
    "rate_label.grid(row=1, column=0, sticky='W', padx=30, pady=10)\n",
    "\n",
    "rate = tk.Entry(payment_app, font='Times 12')\n",
    "rate.grid(row=1, column=1, sticky='E', padx=30, pady=10)\n",
    "\n",
    "years_label = tk.Label(payment_app, text='Loan Periods:',font='Times 12')\n",
    "years_label.grid(row=2, column=0, sticky='W', padx=30, pady=10)\n",
    "\n",
    "years = tk.Entry(payment_app, font='Times 12')\n",
    "years.grid(row=2, column=1, sticky='E', padx=30, pady=10)\n",
    "\n",
    "payment_label = tk.Label(payment_app, text='Payment:',font='Times 12')\n",
    "payment_label.grid(row=3, column=0, sticky='W', padx=30, pady=10)\n",
    "\n",
    "payment = tk.Entry(payment_app, font='Times 12')\n",
    "payment.grid(row=3, column=1, sticky='E', padx=30, pady=10)\n",
    "\n",
    "button = tk.Button(payment_app, text='Compute Payment', font='Times 12', justify='center', command=compute_payment_cb)\n",
    "button.grid(row=4, column=0, columnspan=2, pady=30, sticky='S')"
   ]
  },
  {
   "cell_type": "markdown",
   "metadata": {},
   "source": [
    "##### <span style=\"color:red\">Autograder Tests:</span>"
   ]
  },
  {
   "cell_type": "code",
   "execution_count": 7,
   "metadata": {
    "collapsed": true,
    "deletable": false,
    "editable": false,
    "nbgrader": {
     "checksum": "7ff5c43f8e4a5523601a3f3b820f1b85",
     "grade": true,
     "grade_id": "payment_test_1",
     "locked": true,
     "points": 5,
     "schema_version": 1,
     "solution": false
    }
   },
   "outputs": [],
   "source": [
    "# Test the callback function to make sure it is computing payments accurately\n",
    "assert round(monthly_payment(20000, 3.0, 6), 2) == 303.87"
   ]
  },
  {
   "cell_type": "code",
   "execution_count": 8,
   "metadata": {
    "collapsed": true,
    "deletable": false,
    "editable": false,
    "nbgrader": {
     "checksum": "3727d9a38749194243980dd3acd6f3db",
     "grade": true,
     "grade_id": "payment_test_2",
     "locked": true,
     "points": 10,
     "schema_version": 1,
     "solution": false
    }
   },
   "outputs": [],
   "source": [
    "# Verify the number of widgets of each type\n",
    "counts = { tk.Label: 0, tk.Entry: 0, tk.Button: 0 }\n",
    "\n",
    "for x in payment_app.children.values():\n",
    "    counts[type(x)] += 1\n",
    "    \n",
    "assert counts == { tk.Label: 4, tk.Entry: 4, tk.Button: 1 }"
   ]
  },
  {
   "cell_type": "code",
   "execution_count": 9,
   "metadata": {
    "collapsed": false,
    "deletable": false,
    "editable": false,
    "nbgrader": {
     "checksum": "a0a8c7e57cc09455a4af1a766ed1c1b8",
     "grade": true,
     "grade_id": "payment_test_3",
     "locked": true,
     "points": 10,
     "schema_version": 1,
     "solution": false
    }
   },
   "outputs": [],
   "source": [
    "# Store values in the GUI, click the button, check the result\n",
    "amount.insert(0, '20000')\n",
    "rate.insert(0, '3.0')\n",
    "years.insert(0, '6')\n",
    "button.invoke()\n",
    "\n",
    "assert payment.get() == '$303.87'"
   ]
  },
  {
   "cell_type": "markdown",
   "metadata": {},
   "source": [
    "##### <span style=\"color:red\">Documentation:</span>"
   ]
  },
  {
   "cell_type": "markdown",
   "metadata": {
    "deletable": false,
    "nbgrader": {
     "checksum": "60009593bb2ea1b8f502e4c248cfff4e",
     "grade": true,
     "grade_id": "doc_2",
     "locked": false,
     "points": 10,
     "schema_version": 1,
     "solution": true
    }
   },
   "source": [
    "First I converted the equation for monthly payment into code in the function monthly_payment() by calling the pow() function. Then I created the compute_payment_cb function, that clears the entry box for payment. Then if there are variables in all three of the entry boxes amount, rate, years, then the monthly_payment function is called to calculate and the total. The int total is then formatted with a dollar sign and as a float with 2 decimal places is inserted into the payment box. If any of the three parameters is left empty by the user the function clears all the boxes when the calculate button is clicked.\n",
    "I then created label widgets and entry widgets for the amount, rate, years, and payment. As well as centered a button widget at the bottom of the GUI. The widgets are set up on a grid with 0-4 rows and 0-2 columns. All of the entry widgets are in column 2 and all the label widgets are in column 0, leaving the button widget for column 1. "
   ]
  },
  {
   "cell_type": "markdown",
   "metadata": {},
   "source": [
    "### <span style=\"color:teal\">3. &nbsp; Canvas (40 points)</span>"
   ]
  },
  {
   "cell_type": "markdown",
   "metadata": {},
   "source": [
    "Fill in the application named `canvas_app`.  The application will have just one widget, a Tk canvas with a size of $400 \\times 400$ pixels. \n",
    "\n",
    "You also need to fill in the body of the function named `make_circle` that will draw a circle on your canvas.  The parameters are a reference to the canvas widget, three integers for the size and location of the circle, and a string with a color name.\n",
    "\n",
    "Use the function to draw three circles on your canvas.  You can choose whatever size, location, and color you would like.\n",
    "\n",
    "<img src=\"http://www.cs.uoregon.edu/Classes/16W/cis211/images/gui/three_circles.png\"/>\n"
   ]
  },
  {
   "cell_type": "markdown",
   "metadata": {},
   "source": [
    "##### <span style=\"color:red\">Code:</span>"
   ]
  },
  {
   "cell_type": "code",
   "execution_count": 10,
   "metadata": {
    "collapsed": true,
    "deletable": false,
    "nbgrader": {
     "checksum": "9ac2605e44a6764059ef650db702727c",
     "grade": true,
     "grade_id": "canvas",
     "locked": false,
     "points": 15,
     "schema_version": 1,
     "solution": true
    }
   },
   "outputs": [],
   "source": [
    "def make_circle(canvas, radius, x, y, color):\n",
    "    '''(reference_to_widget,int,int,int,str) -> ()\n",
    "    The function uses the reference to a canvas widget and creates a circle by calling the create_oval method and\n",
    "    by giving the other four arguments, radius, x, y, and color to that method as the rest of its parameters.\n",
    "    The circle is drawn on a canvas but nothing is returned\n",
    "    '''\n",
    "    canvas.create_oval(x-radius,y-radius,x+radius,y+radius, fill=color)\n",
    "    return\n",
    "\n",
    "canvas_app = tk.Tk()\n",
    "cvs = tk.Canvas(canvas_app, width=400, height=400)\n",
    "cvs.pack()\n",
    "make_circle(cvs, 50, 100, 100, 'green')\n",
    "make_circle(cvs, 25, 200, 200, 'blue')\n",
    "make_circle(cvs, 15, 300, 300, 'yellow')"
   ]
  },
  {
   "cell_type": "markdown",
   "metadata": {},
   "source": [
    "##### <span style=\"color:red\">Autograder Tests:</span>"
   ]
  },
  {
   "cell_type": "code",
   "execution_count": 11,
   "metadata": {
    "collapsed": true,
    "deletable": false,
    "editable": false,
    "nbgrader": {
     "checksum": "77f4b061be3cf212aacce9ab8f4e3ec1",
     "grade": true,
     "grade_id": "canvas_test_1",
     "locked": true,
     "points": 5,
     "schema_version": 1,
     "solution": false
    }
   },
   "outputs": [],
   "source": [
    "# See if the GUI has a Canvas widget\n",
    "widgets = list(canvas_app.children.values())\n",
    "assert len(widgets) == 1 and isinstance(widgets[0], tk.Canvas)"
   ]
  },
  {
   "cell_type": "code",
   "execution_count": 12,
   "metadata": {
    "collapsed": false,
    "deletable": false,
    "editable": false,
    "nbgrader": {
     "checksum": "7900236e8aa8f59bcd4f8c7144f41024",
     "grade": true,
     "grade_id": "canvas_test_2",
     "locked": true,
     "points": 10,
     "schema_version": 1,
     "solution": false
    }
   },
   "outputs": [],
   "source": [
    "# See if the canvas has circles on it\n",
    "widgets = list(canvas_app.children.values())\n",
    "for n in widgets[0].find_all():\n",
    "    assert widgets[0].type(n) == 'oval'"
   ]
  },
  {
   "cell_type": "markdown",
   "metadata": {},
   "source": [
    "##### <span style=\"color:red\">Documentation:</span>"
   ]
  },
  {
   "cell_type": "markdown",
   "metadata": {
    "deletable": false,
    "nbgrader": {
     "checksum": "3e0fe3aaa4b312a8077ba3a64115bf13",
     "grade": true,
     "grade_id": "doc_3",
     "locked": false,
     "points": 10,
     "schema_version": 1,
     "solution": true
    }
   },
   "source": [
    "First I defined the make_circle function so that it called the create_oval() method of our canvas widget that has been given as one of the parameters of this function. The method create_oval() uses the radius, x and y coordinates, and the color to draw a circle on our canvas widget that has been assigned and packed globally.\n",
    "The last step was to call our new function three times with different x, y, and color parameters each time."
   ]
  }
 ],
 "metadata": {
  "anaconda-cloud": {},
  "kernelspec": {
   "display_name": "Python 3",
   "language": "python",
   "name": "python3"
  },
  "language_info": {
   "codemirror_mode": {
    "name": "ipython",
    "version": 3
   },
   "file_extension": ".py",
   "mimetype": "text/x-python",
   "name": "python",
   "nbconvert_exporter": "python",
   "pygments_lexer": "ipython3",
   "version": "3.6.0"
  }
 },
 "nbformat": 4,
 "nbformat_minor": 1
}
